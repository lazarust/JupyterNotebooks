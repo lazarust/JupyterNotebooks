{
 "cells": [
  {
   "cell_type": "markdown",
   "metadata": {
    "collapsed": true,
    "pycharm": {
     "name": "#%% md\n"
    }
   },
   "source": [
    "# Pokemon Statistical Analysis\n",
    "\n",
    "The purpose of this project is to experiment with some Exploratory data analysis with some Pokèmon statistics."
   ]
  },
  {
   "cell_type": "markdown",
   "source": [
    "## Imports"
   ],
   "metadata": {
    "collapsed": false,
    "pycharm": {
     "name": "#%% md\n"
    }
   }
  },
  {
   "cell_type": "code",
   "execution_count": 44,
   "outputs": [],
   "source": [
    "import pandas as pd\n",
    "import matplotlib.pyplot as plt\n",
    "import sklearn"
   ],
   "metadata": {
    "collapsed": false,
    "pycharm": {
     "name": "#%%\n"
    }
   }
  },
  {
   "cell_type": "markdown",
   "source": [
    "## Read In Data\n"
   ],
   "metadata": {
    "collapsed": false,
    "pycharm": {
     "name": "#%% md\n"
    }
   }
  },
  {
   "cell_type": "code",
   "execution_count": 45,
   "outputs": [
    {
     "data": {
      "text/plain": "   #                   Name Type 1  Type 2  Total  HP  Attack  Defense  \\\n0  1              Bulbasaur  Grass  Poison    318  45      49       49   \n1  2                Ivysaur  Grass  Poison    405  60      62       63   \n2  3               Venusaur  Grass  Poison    525  80      82       83   \n3  3  VenusaurMega Venusaur  Grass  Poison    625  80     100      123   \n4  4             Charmander   Fire     NaN    309  39      52       43   \n\n   Sp. Atk  Sp. Def  Speed  Generation  Legendary  \n0       65       65     45           1      False  \n1       80       80     60           1      False  \n2      100      100     80           1      False  \n3      122      120     80           1      False  \n4       60       50     65           1      False  ",
      "text/html": "<div>\n<style scoped>\n    .dataframe tbody tr th:only-of-type {\n        vertical-align: middle;\n    }\n\n    .dataframe tbody tr th {\n        vertical-align: top;\n    }\n\n    .dataframe thead th {\n        text-align: right;\n    }\n</style>\n<table border=\"1\" class=\"dataframe\">\n  <thead>\n    <tr style=\"text-align: right;\">\n      <th></th>\n      <th>#</th>\n      <th>Name</th>\n      <th>Type 1</th>\n      <th>Type 2</th>\n      <th>Total</th>\n      <th>HP</th>\n      <th>Attack</th>\n      <th>Defense</th>\n      <th>Sp. Atk</th>\n      <th>Sp. Def</th>\n      <th>Speed</th>\n      <th>Generation</th>\n      <th>Legendary</th>\n    </tr>\n  </thead>\n  <tbody>\n    <tr>\n      <th>0</th>\n      <td>1</td>\n      <td>Bulbasaur</td>\n      <td>Grass</td>\n      <td>Poison</td>\n      <td>318</td>\n      <td>45</td>\n      <td>49</td>\n      <td>49</td>\n      <td>65</td>\n      <td>65</td>\n      <td>45</td>\n      <td>1</td>\n      <td>False</td>\n    </tr>\n    <tr>\n      <th>1</th>\n      <td>2</td>\n      <td>Ivysaur</td>\n      <td>Grass</td>\n      <td>Poison</td>\n      <td>405</td>\n      <td>60</td>\n      <td>62</td>\n      <td>63</td>\n      <td>80</td>\n      <td>80</td>\n      <td>60</td>\n      <td>1</td>\n      <td>False</td>\n    </tr>\n    <tr>\n      <th>2</th>\n      <td>3</td>\n      <td>Venusaur</td>\n      <td>Grass</td>\n      <td>Poison</td>\n      <td>525</td>\n      <td>80</td>\n      <td>82</td>\n      <td>83</td>\n      <td>100</td>\n      <td>100</td>\n      <td>80</td>\n      <td>1</td>\n      <td>False</td>\n    </tr>\n    <tr>\n      <th>3</th>\n      <td>3</td>\n      <td>VenusaurMega Venusaur</td>\n      <td>Grass</td>\n      <td>Poison</td>\n      <td>625</td>\n      <td>80</td>\n      <td>100</td>\n      <td>123</td>\n      <td>122</td>\n      <td>120</td>\n      <td>80</td>\n      <td>1</td>\n      <td>False</td>\n    </tr>\n    <tr>\n      <th>4</th>\n      <td>4</td>\n      <td>Charmander</td>\n      <td>Fire</td>\n      <td>NaN</td>\n      <td>309</td>\n      <td>39</td>\n      <td>52</td>\n      <td>43</td>\n      <td>60</td>\n      <td>50</td>\n      <td>65</td>\n      <td>1</td>\n      <td>False</td>\n    </tr>\n  </tbody>\n</table>\n</div>"
     },
     "execution_count": 45,
     "metadata": {},
     "output_type": "execute_result"
    }
   ],
   "source": [
    "poke_df = pd.read_csv('./data/pokemon.csv')\n",
    "poke_df.head()"
   ],
   "metadata": {
    "collapsed": false,
    "pycharm": {
     "name": "#%%\n"
    }
   }
  },
  {
   "cell_type": "code",
   "execution_count": 46,
   "outputs": [
    {
     "data": {
      "text/plain": "<bound method NDFrame.describe of        #                   Name   Type 1  Type 2  Total  HP  Attack  Defense  \\\n0      1              Bulbasaur    Grass  Poison    318  45      49       49   \n1      2                Ivysaur    Grass  Poison    405  60      62       63   \n2      3               Venusaur    Grass  Poison    525  80      82       83   \n3      3  VenusaurMega Venusaur    Grass  Poison    625  80     100      123   \n4      4             Charmander     Fire     NaN    309  39      52       43   \n..   ...                    ...      ...     ...    ...  ..     ...      ...   \n795  719                Diancie     Rock   Fairy    600  50     100      150   \n796  719    DiancieMega Diancie     Rock   Fairy    700  50     160      110   \n797  720    HoopaHoopa Confined  Psychic   Ghost    600  80     110       60   \n798  720     HoopaHoopa Unbound  Psychic    Dark    680  80     160       60   \n799  721              Volcanion     Fire   Water    600  80     110      120   \n\n     Sp. Atk  Sp. Def  Speed  Generation  Legendary  \n0         65       65     45           1      False  \n1         80       80     60           1      False  \n2        100      100     80           1      False  \n3        122      120     80           1      False  \n4         60       50     65           1      False  \n..       ...      ...    ...         ...        ...  \n795      100      150     50           6       True  \n796      160      110    110           6       True  \n797      150      130     70           6       True  \n798      170      130     80           6       True  \n799      130       90     70           6       True  \n\n[800 rows x 13 columns]>"
     },
     "execution_count": 46,
     "metadata": {},
     "output_type": "execute_result"
    }
   ],
   "source": [
    "poke_df.describe"
   ],
   "metadata": {
    "collapsed": false,
    "pycharm": {
     "name": "#%%\n"
    }
   }
  },
  {
   "cell_type": "code",
   "execution_count": 47,
   "outputs": [
    {
     "data": {
      "text/plain": "Index(['#', 'Name', 'Type 1', 'Type 2', 'Total', 'HP', 'Attack', 'Defense',\n       'Sp. Atk', 'Sp. Def', 'Speed', 'Generation', 'Legendary'],\n      dtype='object')"
     },
     "execution_count": 47,
     "metadata": {},
     "output_type": "execute_result"
    }
   ],
   "source": [
    "poke_df.columns"
   ],
   "metadata": {
    "collapsed": false,
    "pycharm": {
     "name": "#%%\n"
    }
   }
  },
  {
   "cell_type": "markdown",
   "source": [
    "## Exploratory Data Analysis (EDA) For Each Generation"
   ],
   "metadata": {
    "collapsed": false
   }
  },
  {
   "cell_type": "markdown",
   "source": [
    "### Gen 1 Charts"
   ],
   "metadata": {
    "collapsed": false
   }
  },
  {
   "cell_type": "code",
   "execution_count": 48,
   "outputs": [
    {
     "data": {
      "text/plain": "   #                   Name Type 1  Type 2  Total  HP  Attack  Defense  \\\n0  1              Bulbasaur  Grass  Poison    318  45      49       49   \n1  2                Ivysaur  Grass  Poison    405  60      62       63   \n2  3               Venusaur  Grass  Poison    525  80      82       83   \n3  3  VenusaurMega Venusaur  Grass  Poison    625  80     100      123   \n4  4             Charmander   Fire     NaN    309  39      52       43   \n\n   Sp. Atk  Sp. Def  Speed  Generation  Legendary  \n0       65       65     45           1      False  \n1       80       80     60           1      False  \n2      100      100     80           1      False  \n3      122      120     80           1      False  \n4       60       50     65           1      False  ",
      "text/html": "<div>\n<style scoped>\n    .dataframe tbody tr th:only-of-type {\n        vertical-align: middle;\n    }\n\n    .dataframe tbody tr th {\n        vertical-align: top;\n    }\n\n    .dataframe thead th {\n        text-align: right;\n    }\n</style>\n<table border=\"1\" class=\"dataframe\">\n  <thead>\n    <tr style=\"text-align: right;\">\n      <th></th>\n      <th>#</th>\n      <th>Name</th>\n      <th>Type 1</th>\n      <th>Type 2</th>\n      <th>Total</th>\n      <th>HP</th>\n      <th>Attack</th>\n      <th>Defense</th>\n      <th>Sp. Atk</th>\n      <th>Sp. Def</th>\n      <th>Speed</th>\n      <th>Generation</th>\n      <th>Legendary</th>\n    </tr>\n  </thead>\n  <tbody>\n    <tr>\n      <th>0</th>\n      <td>1</td>\n      <td>Bulbasaur</td>\n      <td>Grass</td>\n      <td>Poison</td>\n      <td>318</td>\n      <td>45</td>\n      <td>49</td>\n      <td>49</td>\n      <td>65</td>\n      <td>65</td>\n      <td>45</td>\n      <td>1</td>\n      <td>False</td>\n    </tr>\n    <tr>\n      <th>1</th>\n      <td>2</td>\n      <td>Ivysaur</td>\n      <td>Grass</td>\n      <td>Poison</td>\n      <td>405</td>\n      <td>60</td>\n      <td>62</td>\n      <td>63</td>\n      <td>80</td>\n      <td>80</td>\n      <td>60</td>\n      <td>1</td>\n      <td>False</td>\n    </tr>\n    <tr>\n      <th>2</th>\n      <td>3</td>\n      <td>Venusaur</td>\n      <td>Grass</td>\n      <td>Poison</td>\n      <td>525</td>\n      <td>80</td>\n      <td>82</td>\n      <td>83</td>\n      <td>100</td>\n      <td>100</td>\n      <td>80</td>\n      <td>1</td>\n      <td>False</td>\n    </tr>\n    <tr>\n      <th>3</th>\n      <td>3</td>\n      <td>VenusaurMega Venusaur</td>\n      <td>Grass</td>\n      <td>Poison</td>\n      <td>625</td>\n      <td>80</td>\n      <td>100</td>\n      <td>123</td>\n      <td>122</td>\n      <td>120</td>\n      <td>80</td>\n      <td>1</td>\n      <td>False</td>\n    </tr>\n    <tr>\n      <th>4</th>\n      <td>4</td>\n      <td>Charmander</td>\n      <td>Fire</td>\n      <td>NaN</td>\n      <td>309</td>\n      <td>39</td>\n      <td>52</td>\n      <td>43</td>\n      <td>60</td>\n      <td>50</td>\n      <td>65</td>\n      <td>1</td>\n      <td>False</td>\n    </tr>\n  </tbody>\n</table>\n</div>"
     },
     "execution_count": 48,
     "metadata": {},
     "output_type": "execute_result"
    }
   ],
   "source": [
    "gen_1 = poke_df.query('Generation==1')\n",
    "gen_1.head()"
   ],
   "metadata": {
    "collapsed": false,
    "pycharm": {
     "name": "#%%\n"
    }
   }
  },
  {
   "cell_type": "code",
   "execution_count": 49,
   "outputs": [
    {
     "data": {
      "text/plain": "               Total         HP      Attack    Defense    Sp. Atk    Sp. Def  \\\nType 1                                                                         \nBug       366.428571  56.785714   76.428571  60.357143  46.428571  59.642857   \nDragon    440.000000  64.333333   94.000000  68.333333  73.333333  73.333333   \nElectric  444.444444  54.444444   62.000000  64.666667  91.111111  73.333333   \nFairy     403.000000  82.500000   57.500000  60.500000  77.500000  77.500000   \nFighting  412.142857  63.571429  102.857143  61.000000  45.000000  73.571429   \n\n              Speed  \nType 1               \nBug       66.785714  \nDragon    66.666667  \nElectric  98.888889  \nFairy     47.500000  \nFighting  66.142857  ",
      "text/html": "<div>\n<style scoped>\n    .dataframe tbody tr th:only-of-type {\n        vertical-align: middle;\n    }\n\n    .dataframe tbody tr th {\n        vertical-align: top;\n    }\n\n    .dataframe thead th {\n        text-align: right;\n    }\n</style>\n<table border=\"1\" class=\"dataframe\">\n  <thead>\n    <tr style=\"text-align: right;\">\n      <th></th>\n      <th>Total</th>\n      <th>HP</th>\n      <th>Attack</th>\n      <th>Defense</th>\n      <th>Sp. Atk</th>\n      <th>Sp. Def</th>\n      <th>Speed</th>\n    </tr>\n    <tr>\n      <th>Type 1</th>\n      <th></th>\n      <th></th>\n      <th></th>\n      <th></th>\n      <th></th>\n      <th></th>\n      <th></th>\n    </tr>\n  </thead>\n  <tbody>\n    <tr>\n      <th>Bug</th>\n      <td>366.428571</td>\n      <td>56.785714</td>\n      <td>76.428571</td>\n      <td>60.357143</td>\n      <td>46.428571</td>\n      <td>59.642857</td>\n      <td>66.785714</td>\n    </tr>\n    <tr>\n      <th>Dragon</th>\n      <td>440.000000</td>\n      <td>64.333333</td>\n      <td>94.000000</td>\n      <td>68.333333</td>\n      <td>73.333333</td>\n      <td>73.333333</td>\n      <td>66.666667</td>\n    </tr>\n    <tr>\n      <th>Electric</th>\n      <td>444.444444</td>\n      <td>54.444444</td>\n      <td>62.000000</td>\n      <td>64.666667</td>\n      <td>91.111111</td>\n      <td>73.333333</td>\n      <td>98.888889</td>\n    </tr>\n    <tr>\n      <th>Fairy</th>\n      <td>403.000000</td>\n      <td>82.500000</td>\n      <td>57.500000</td>\n      <td>60.500000</td>\n      <td>77.500000</td>\n      <td>77.500000</td>\n      <td>47.500000</td>\n    </tr>\n    <tr>\n      <th>Fighting</th>\n      <td>412.142857</td>\n      <td>63.571429</td>\n      <td>102.857143</td>\n      <td>61.000000</td>\n      <td>45.000000</td>\n      <td>73.571429</td>\n      <td>66.142857</td>\n    </tr>\n  </tbody>\n</table>\n</div>"
     },
     "execution_count": 49,
     "metadata": {},
     "output_type": "execute_result"
    }
   ],
   "source": [
    "gen_1_means = gen_1.groupby('Type 1').mean(numeric_only=True)\n",
    "gen_1_means.drop(columns=['#', 'Generation', 'Legendary'], inplace=True)\n",
    "gen_1_means.head()"
   ],
   "metadata": {
    "collapsed": false,
    "pycharm": {
     "name": "#%%\n"
    }
   }
  },
  {
   "cell_type": "code",
   "execution_count": 50,
   "outputs": [
    {
     "data": {
      "text/plain": "<Figure size 432x288 with 4 Axes>",
      "image/png": "[encoded data removed]"
     },
     "metadata": {
      "needs_background": "light"
     },
     "output_type": "display_data"
    }
   ],
   "source": [
    "fig, axs = plt.subplots(2, 2, sharey=True, tight_layout=True)\n",
    "axs[0][0].hist(gen_1['HP'], label='HP')\n",
    "axs[0][1].hist(gen_1['Attack'], label='Attack', color='red')\n",
    "axs[1][0].hist(gen_1['Speed'], label='Speed', color='green')\n",
    "axs[1][1].hist(gen_1['Defense'], label='Defense', color='purple')\n",
    "fig.legend()\n",
    "fig.savefig('images/gen_1_charts.jpg')"
   ],
   "metadata": {
    "collapsed": false,
    "pycharm": {
     "name": "#%%\n"
    }
   }
  },
  {
   "cell_type": "markdown",
   "source": [
    "### Gen 2 Charts"
   ],
   "metadata": {
    "collapsed": false,
    "pycharm": {
     "name": "#%% md\n"
    }
   }
  },
  {
   "cell_type": "code",
   "execution_count": 51,
   "outputs": [
    {
     "data": {
      "text/plain": "       #       Name Type 1 Type 2  Total  HP  Attack  Defense  Sp. Atk  \\\n166  152  Chikorita  Grass    NaN    318  45      49       65       49   \n167  153    Bayleef  Grass    NaN    405  60      62       80       63   \n168  154   Meganium  Grass    NaN    525  80      82      100       83   \n169  155  Cyndaquil   Fire    NaN    309  39      52       43       60   \n170  156    Quilava   Fire    NaN    405  58      64       58       80   \n\n     Sp. Def  Speed  Generation  Legendary  \n166       65     45           2      False  \n167       80     60           2      False  \n168      100     80           2      False  \n169       50     65           2      False  \n170       65     80           2      False  ",
      "text/html": "<div>\n<style scoped>\n    .dataframe tbody tr th:only-of-type {\n        vertical-align: middle;\n    }\n\n    .dataframe tbody tr th {\n        vertical-align: top;\n    }\n\n    .dataframe thead th {\n        text-align: right;\n    }\n</style>\n<table border=\"1\" class=\"dataframe\">\n  <thead>\n    <tr style=\"text-align: right;\">\n      <th></th>\n      <th>#</th>\n      <th>Name</th>\n      <th>Type 1</th>\n      <th>Type 2</th>\n      <th>Total</th>\n      <th>HP</th>\n      <th>Attack</th>\n      <th>Defense</th>\n      <th>Sp. Atk</th>\n      <th>Sp. Def</th>\n      <th>Speed</th>\n      <th>Generation</th>\n      <th>Legendary</th>\n    </tr>\n  </thead>\n  <tbody>\n    <tr>\n      <th>166</th>\n      <td>152</td>\n      <td>Chikorita</td>\n      <td>Grass</td>\n      <td>NaN</td>\n      <td>318</td>\n      <td>45</td>\n      <td>49</td>\n      <td>65</td>\n      <td>49</td>\n      <td>65</td>\n      <td>45</td>\n      <td>2</td>\n      <td>False</td>\n    </tr>\n    <tr>\n      <th>167</th>\n      <td>153</td>\n      <td>Bayleef</td>\n      <td>Grass</td>\n      <td>NaN</td>\n      <td>405</td>\n      <td>60</td>\n      <td>62</td>\n      <td>80</td>\n      <td>63</td>\n      <td>80</td>\n      <td>60</td>\n      <td>2</td>\n      <td>False</td>\n    </tr>\n    <tr>\n      <th>168</th>\n      <td>154</td>\n      <td>Meganium</td>\n      <td>Grass</td>\n      <td>NaN</td>\n      <td>525</td>\n      <td>80</td>\n      <td>82</td>\n      <td>100</td>\n      <td>83</td>\n      <td>100</td>\n      <td>80</td>\n      <td>2</td>\n      <td>False</td>\n    </tr>\n    <tr>\n      <th>169</th>\n      <td>155</td>\n      <td>Cyndaquil</td>\n      <td>Fire</td>\n      <td>NaN</td>\n      <td>309</td>\n      <td>39</td>\n      <td>52</td>\n      <td>43</td>\n      <td>60</td>\n      <td>50</td>\n      <td>65</td>\n      <td>2</td>\n      <td>False</td>\n    </tr>\n    <tr>\n      <th>170</th>\n      <td>156</td>\n      <td>Quilava</td>\n      <td>Fire</td>\n      <td>NaN</td>\n      <td>405</td>\n      <td>58</td>\n      <td>64</td>\n      <td>58</td>\n      <td>80</td>\n      <td>65</td>\n      <td>80</td>\n      <td>2</td>\n      <td>False</td>\n    </tr>\n  </tbody>\n</table>\n</div>"
     },
     "execution_count": 51,
     "metadata": {},
     "output_type": "execute_result"
    }
   ],
   "source": [
    "gen_2 = poke_df.query('Generation==2')\n",
    "gen_2.head()"
   ],
   "metadata": {
    "collapsed": false,
    "pycharm": {
     "name": "#%%\n"
    }
   }
  },
  {
   "cell_type": "code",
   "execution_count": 52,
   "outputs": [
    {
     "data": {
      "text/plain": "               Total         HP     Attack    Defense    Sp. Atk    Sp. Def  \\\nType 1                                                                        \nBug       428.750000  59.583333  85.416667  93.750000  47.916667  86.666667   \nDark      465.000000  67.500000  80.833333  62.833333  85.000000  77.833333   \nElectric  415.714286  65.714286  64.714286  58.857143  91.428571  70.714286   \nFairy     323.600000  58.000000  57.000000  60.600000  53.000000  65.000000   \nFighting  332.500000  42.500000  65.000000  65.000000  35.000000  72.500000   \n\n              Speed  \nType 1               \nBug       55.416667  \nDark      91.000000  \nElectric  64.285714  \nFairy     30.000000  \nFighting  52.500000  ",
      "text/html": "<div>\n<style scoped>\n    .dataframe tbody tr th:only-of-type {\n        vertical-align: middle;\n    }\n\n    .dataframe tbody tr th {\n        vertical-align: top;\n    }\n\n    .dataframe thead th {\n        text-align: right;\n    }\n</style>\n<table border=\"1\" class=\"dataframe\">\n  <thead>\n    <tr style=\"text-align: right;\">\n      <th></th>\n      <th>Total</th>\n      <th>HP</th>\n      <th>Attack</th>\n      <th>Defense</th>\n      <th>Sp. Atk</th>\n      <th>Sp. Def</th>\n      <th>Speed</th>\n    </tr>\n    <tr>\n      <th>Type 1</th>\n      <th></th>\n      <th></th>\n      <th></th>\n      <th></th>\n      <th></th>\n      <th></th>\n      <th></th>\n    </tr>\n  </thead>\n  <tbody>\n    <tr>\n      <th>Bug</th>\n      <td>428.750000</td>\n      <td>59.583333</td>\n      <td>85.416667</td>\n      <td>93.750000</td>\n      <td>47.916667</td>\n      <td>86.666667</td>\n      <td>55.416667</td>\n    </tr>\n    <tr>\n      <th>Dark</th>\n      <td>465.000000</td>\n      <td>67.500000</td>\n      <td>80.833333</td>\n      <td>62.833333</td>\n      <td>85.000000</td>\n      <td>77.833333</td>\n      <td>91.000000</td>\n    </tr>\n    <tr>\n      <th>Electric</th>\n      <td>415.714286</td>\n      <td>65.714286</td>\n      <td>64.714286</td>\n      <td>58.857143</td>\n      <td>91.428571</td>\n      <td>70.714286</td>\n      <td>64.285714</td>\n    </tr>\n    <tr>\n      <th>Fairy</th>\n      <td>323.600000</td>\n      <td>58.000000</td>\n      <td>57.000000</td>\n      <td>60.600000</td>\n      <td>53.000000</td>\n      <td>65.000000</td>\n      <td>30.000000</td>\n    </tr>\n    <tr>\n      <th>Fighting</th>\n      <td>332.500000</td>\n      <td>42.500000</td>\n      <td>65.000000</td>\n      <td>65.000000</td>\n      <td>35.000000</td>\n      <td>72.500000</td>\n      <td>52.500000</td>\n    </tr>\n  </tbody>\n</table>\n</div>"
     },
     "execution_count": 52,
     "metadata": {},
     "output_type": "execute_result"
    }
   ],
   "source": [
    "gen_2_means = gen_2.groupby('Type 1').mean(numeric_only=True)\n",
    "gen_2_means.drop(columns=['#', 'Generation', 'Legendary'], inplace=True)\n",
    "gen_2_means.head()"
   ],
   "metadata": {
    "collapsed": false,
    "pycharm": {
     "name": "#%%\n"
    }
   }
  },
  {
   "cell_type": "code",
   "execution_count": 53,
   "outputs": [
    {
     "data": {
      "text/plain": "<Figure size 432x288 with 4 Axes>",
      "image/png": "[encoded data removed]"
     },
     "metadata": {
      "needs_background": "light"
     },
     "output_type": "display_data"
    }
   ],
   "source": [
    "fig, axs = plt.subplots(2, 2, sharey=True, tight_layout=True)\n",
    "axs[0][0].hist(gen_2['HP'], label='HP')\n",
    "axs[0][1].hist(gen_2['Attack'], label='Attack', color='red')\n",
    "axs[1][0].hist(gen_2['Speed'], label='Speed', color='green')\n",
    "axs[1][1].hist(gen_2['Defense'], label='Defense', color='purple')\n",
    "fig.legend()\n",
    "fig.savefig('images/gen_2_charts.jpg')"
   ],
   "metadata": {
    "collapsed": false,
    "pycharm": {
     "name": "#%%\n"
    }
   }
  },
  {
   "cell_type": "markdown",
   "source": [
    "### Gen 3 Charts"
   ],
   "metadata": {
    "collapsed": false,
    "pycharm": {
     "name": "#%% md\n"
    }
   }
  },
  {
   "cell_type": "code",
   "execution_count": 54,
   "outputs": [
    {
     "data": {
      "text/plain": "       #                   Name Type 1  Type 2  Total  HP  Attack  Defense  \\\n272  252                Treecko  Grass     NaN    310  40      45       35   \n273  253                Grovyle  Grass     NaN    405  50      65       45   \n274  254               Sceptile  Grass     NaN    530  70      85       65   \n275  254  SceptileMega Sceptile  Grass  Dragon    630  70     110       75   \n276  255                Torchic   Fire     NaN    310  45      60       40   \n\n     Sp. Atk  Sp. Def  Speed  Generation  Legendary  \n272       65       55     70           3      False  \n273       85       65     95           3      False  \n274      105       85    120           3      False  \n275      145       85    145           3      False  \n276       70       50     45           3      False  ",
      "text/html": "<div>\n<style scoped>\n    .dataframe tbody tr th:only-of-type {\n        vertical-align: middle;\n    }\n\n    .dataframe tbody tr th {\n        vertical-align: top;\n    }\n\n    .dataframe thead th {\n        text-align: right;\n    }\n</style>\n<table border=\"1\" class=\"dataframe\">\n  <thead>\n    <tr style=\"text-align: right;\">\n      <th></th>\n      <th>#</th>\n      <th>Name</th>\n      <th>Type 1</th>\n      <th>Type 2</th>\n      <th>Total</th>\n      <th>HP</th>\n      <th>Attack</th>\n      <th>Defense</th>\n      <th>Sp. Atk</th>\n      <th>Sp. Def</th>\n      <th>Speed</th>\n      <th>Generation</th>\n      <th>Legendary</th>\n    </tr>\n  </thead>\n  <tbody>\n    <tr>\n      <th>272</th>\n      <td>252</td>\n      <td>Treecko</td>\n      <td>Grass</td>\n      <td>NaN</td>\n      <td>310</td>\n      <td>40</td>\n      <td>45</td>\n      <td>35</td>\n      <td>65</td>\n      <td>55</td>\n      <td>70</td>\n      <td>3</td>\n      <td>False</td>\n    </tr>\n    <tr>\n      <th>273</th>\n      <td>253</td>\n      <td>Grovyle</td>\n      <td>Grass</td>\n      <td>NaN</td>\n      <td>405</td>\n      <td>50</td>\n      <td>65</td>\n      <td>45</td>\n      <td>85</td>\n      <td>65</td>\n      <td>95</td>\n      <td>3</td>\n      <td>False</td>\n    </tr>\n    <tr>\n      <th>274</th>\n      <td>254</td>\n      <td>Sceptile</td>\n      <td>Grass</td>\n      <td>NaN</td>\n      <td>530</td>\n      <td>70</td>\n      <td>85</td>\n      <td>65</td>\n      <td>105</td>\n      <td>85</td>\n      <td>120</td>\n      <td>3</td>\n      <td>False</td>\n    </tr>\n    <tr>\n      <th>275</th>\n      <td>254</td>\n      <td>SceptileMega Sceptile</td>\n      <td>Grass</td>\n      <td>Dragon</td>\n      <td>630</td>\n      <td>70</td>\n      <td>110</td>\n      <td>75</td>\n      <td>145</td>\n      <td>85</td>\n      <td>145</td>\n      <td>3</td>\n      <td>False</td>\n    </tr>\n    <tr>\n      <th>276</th>\n      <td>255</td>\n      <td>Torchic</td>\n      <td>Fire</td>\n      <td>NaN</td>\n      <td>310</td>\n      <td>45</td>\n      <td>60</td>\n      <td>40</td>\n      <td>70</td>\n      <td>50</td>\n      <td>45</td>\n      <td>3</td>\n      <td>False</td>\n    </tr>\n  </tbody>\n</table>\n</div>"
     },
     "execution_count": 54,
     "metadata": {},
     "output_type": "execute_result"
    }
   ],
   "source": [
    "gen_3 = poke_df.query('Generation==3')\n",
    "gen_3.head()"
   ],
   "metadata": {
    "collapsed": false,
    "pycharm": {
     "name": "#%%\n"
    }
   }
  },
  {
   "cell_type": "code",
   "execution_count": 55,
   "outputs": [
    {
     "data": {
      "text/plain": "               Total         HP      Attack    Defense     Sp. Atk    Sp. Def  \\\nType 1                                                                          \nBug       318.833333  49.833333   55.833333  54.083333   48.333333  51.166667   \nDark      421.666667  55.833333   97.500000  70.833333   71.666667  65.000000   \nDragon    596.666667  81.666667  113.333333  95.833333  115.000000  96.666667   \nElectric  431.000000  60.000000   57.000000  54.000000   93.000000  68.000000   \nFighting  382.200000  73.200000   76.000000  61.000000   48.000000  61.000000   \n\n              Speed  \nType 1               \nBug       59.583333  \nDark      60.833333  \nDragon    94.166667  \nElectric  99.000000  \nFighting  63.000000  ",
      "text/html": "<div>\n<style scoped>\n    .dataframe tbody tr th:only-of-type {\n        vertical-align: middle;\n    }\n\n    .dataframe tbody tr th {\n        vertical-align: top;\n    }\n\n    .dataframe thead th {\n        text-align: right;\n    }\n</style>\n<table border=\"1\" class=\"dataframe\">\n  <thead>\n    <tr style=\"text-align: right;\">\n      <th></th>\n      <th>Total</th>\n      <th>HP</th>\n      <th>Attack</th>\n      <th>Defense</th>\n      <th>Sp. Atk</th>\n      <th>Sp. Def</th>\n      <th>Speed</th>\n    </tr>\n    <tr>\n      <th>Type 1</th>\n      <th></th>\n      <th></th>\n      <th></th>\n      <th></th>\n      <th></th>\n      <th></th>\n      <th></th>\n    </tr>\n  </thead>\n  <tbody>\n    <tr>\n      <th>Bug</th>\n      <td>318.833333</td>\n      <td>49.833333</td>\n      <td>55.833333</td>\n      <td>54.083333</td>\n      <td>48.333333</td>\n      <td>51.166667</td>\n      <td>59.583333</td>\n    </tr>\n    <tr>\n      <th>Dark</th>\n      <td>421.666667</td>\n      <td>55.833333</td>\n      <td>97.500000</td>\n      <td>70.833333</td>\n      <td>71.666667</td>\n      <td>65.000000</td>\n      <td>60.833333</td>\n    </tr>\n    <tr>\n      <th>Dragon</th>\n      <td>596.666667</td>\n      <td>81.666667</td>\n      <td>113.333333</td>\n      <td>95.833333</td>\n      <td>115.000000</td>\n      <td>96.666667</td>\n      <td>94.166667</td>\n    </tr>\n    <tr>\n      <th>Electric</th>\n      <td>431.000000</td>\n      <td>60.000000</td>\n      <td>57.000000</td>\n      <td>54.000000</td>\n      <td>93.000000</td>\n      <td>68.000000</td>\n      <td>99.000000</td>\n    </tr>\n    <tr>\n      <th>Fighting</th>\n      <td>382.200000</td>\n      <td>73.200000</td>\n      <td>76.000000</td>\n      <td>61.000000</td>\n      <td>48.000000</td>\n      <td>61.000000</td>\n      <td>63.000000</td>\n    </tr>\n  </tbody>\n</table>\n</div>"
     },
     "execution_count": 55,
     "metadata": {},
     "output_type": "execute_result"
    }
   ],
   "source": [
    "gen_3_means = gen_3.groupby('Type 1').mean(numeric_only=True)\n",
    "gen_3_means.drop(columns=['#', 'Generation', 'Legendary'], inplace=True)\n",
    "gen_3_means.head()"
   ],
   "metadata": {
    "collapsed": false,
    "pycharm": {
     "name": "#%%\n"
    }
   }
  },
  {
   "cell_type": "code",
   "execution_count": 56,
   "outputs": [
    {
     "data": {
      "text/plain": "<Figure size 432x288 with 4 Axes>",
      "image/png": "[encoded data removed]"
     },
     "metadata": {
      "needs_background": "light"
     },
     "output_type": "display_data"
    }
   ],
   "source": [
    "fig, axs = plt.subplots(2, 2, sharey=True, tight_layout=True)\n",
    "axs[0][0].hist(gen_3['HP'], label='HP')\n",
    "axs[0][1].hist(gen_3['Attack'], label='Attack', color='red')\n",
    "axs[1][0].hist(gen_3['Speed'], label='Speed', color='green')\n",
    "axs[1][1].hist(gen_3['Defense'], label='Defense', color='purple')\n",
    "fig.legend()\n",
    "fig.savefig('images/gen_3_charts.jpg')"
   ],
   "metadata": {
    "collapsed": false,
    "pycharm": {
     "name": "#%%\n"
    }
   }
  },
  {
   "cell_type": "markdown",
   "source": [
    "### Gen 4 Charts"
   ],
   "metadata": {
    "collapsed": false,
    "pycharm": {
     "name": "#%% md\n"
    }
   }
  },
  {
   "cell_type": "code",
   "execution_count": 57,
   "outputs": [
    {
     "data": {
      "text/plain": "       #      Name Type 1    Type 2  Total  HP  Attack  Defense  Sp. Atk  \\\n432  387   Turtwig  Grass       NaN    318  55      68       64       45   \n433  388    Grotle  Grass       NaN    405  75      89       85       55   \n434  389  Torterra  Grass    Ground    525  95     109      105       75   \n435  390  Chimchar   Fire       NaN    309  44      58       44       58   \n436  391  Monferno   Fire  Fighting    405  64      78       52       78   \n\n     Sp. Def  Speed  Generation  Legendary  \n432       55     31           4      False  \n433       65     36           4      False  \n434       85     56           4      False  \n435       44     61           4      False  \n436       52     81           4      False  ",
      "text/html": "<div>\n<style scoped>\n    .dataframe tbody tr th:only-of-type {\n        vertical-align: middle;\n    }\n\n    .dataframe tbody tr th {\n        vertical-align: top;\n    }\n\n    .dataframe thead th {\n        text-align: right;\n    }\n</style>\n<table border=\"1\" class=\"dataframe\">\n  <thead>\n    <tr style=\"text-align: right;\">\n      <th></th>\n      <th>#</th>\n      <th>Name</th>\n      <th>Type 1</th>\n      <th>Type 2</th>\n      <th>Total</th>\n      <th>HP</th>\n      <th>Attack</th>\n      <th>Defense</th>\n      <th>Sp. Atk</th>\n      <th>Sp. Def</th>\n      <th>Speed</th>\n      <th>Generation</th>\n      <th>Legendary</th>\n    </tr>\n  </thead>\n  <tbody>\n    <tr>\n      <th>432</th>\n      <td>387</td>\n      <td>Turtwig</td>\n      <td>Grass</td>\n      <td>NaN</td>\n      <td>318</td>\n      <td>55</td>\n      <td>68</td>\n      <td>64</td>\n      <td>45</td>\n      <td>55</td>\n      <td>31</td>\n      <td>4</td>\n      <td>False</td>\n    </tr>\n    <tr>\n      <th>433</th>\n      <td>388</td>\n      <td>Grotle</td>\n      <td>Grass</td>\n      <td>NaN</td>\n      <td>405</td>\n      <td>75</td>\n      <td>89</td>\n      <td>85</td>\n      <td>55</td>\n      <td>65</td>\n      <td>36</td>\n      <td>4</td>\n      <td>False</td>\n    </tr>\n    <tr>\n      <th>434</th>\n      <td>389</td>\n      <td>Torterra</td>\n      <td>Grass</td>\n      <td>Ground</td>\n      <td>525</td>\n      <td>95</td>\n      <td>109</td>\n      <td>105</td>\n      <td>75</td>\n      <td>85</td>\n      <td>56</td>\n      <td>4</td>\n      <td>False</td>\n    </tr>\n    <tr>\n      <th>435</th>\n      <td>390</td>\n      <td>Chimchar</td>\n      <td>Fire</td>\n      <td>NaN</td>\n      <td>309</td>\n      <td>44</td>\n      <td>58</td>\n      <td>44</td>\n      <td>58</td>\n      <td>44</td>\n      <td>61</td>\n      <td>4</td>\n      <td>False</td>\n    </tr>\n    <tr>\n      <th>436</th>\n      <td>391</td>\n      <td>Monferno</td>\n      <td>Fire</td>\n      <td>Fighting</td>\n      <td>405</td>\n      <td>64</td>\n      <td>78</td>\n      <td>52</td>\n      <td>78</td>\n      <td>52</td>\n      <td>81</td>\n      <td>4</td>\n      <td>False</td>\n    </tr>\n  </tbody>\n</table>\n</div>"
     },
     "execution_count": 57,
     "metadata": {},
     "output_type": "execute_result"
    }
   ],
   "source": [
    "gen_4 = poke_df.query('Generation==4')\n",
    "gen_4.head()"
   ],
   "metadata": {
    "collapsed": false,
    "pycharm": {
     "name": "#%%\n"
    }
   }
  },
  {
   "cell_type": "code",
   "execution_count": 58,
   "outputs": [
    {
     "data": {
      "text/plain": "               Total    HP      Attack  Defense     Sp. Atk     Sp. Def  \\\nType 1                                                                    \nBug       373.100000  59.0   62.600000     70.2   63.600000   67.200000   \nDark      538.333333  80.0  111.666667     69.0   95.000000   75.666667   \nDragon    502.500000  85.5  115.000000     80.0   72.500000   70.000000   \nElectric  472.416667  57.5   73.583333     85.5   90.416667   86.583333   \nFairy     545.000000  85.0   50.000000     95.0  120.000000  115.000000   \n\n               Speed  \nType 1                \nBug        50.500000  \nDark      107.000000  \nDragon     79.500000  \nElectric   78.833333  \nFairy      80.000000  ",
      "text/html": "<div>\n<style scoped>\n    .dataframe tbody tr th:only-of-type {\n        vertical-align: middle;\n    }\n\n    .dataframe tbody tr th {\n        vertical-align: top;\n    }\n\n    .dataframe thead th {\n        text-align: right;\n    }\n</style>\n<table border=\"1\" class=\"dataframe\">\n  <thead>\n    <tr style=\"text-align: right;\">\n      <th></th>\n      <th>Total</th>\n      <th>HP</th>\n      <th>Attack</th>\n      <th>Defense</th>\n      <th>Sp. Atk</th>\n      <th>Sp. Def</th>\n      <th>Speed</th>\n    </tr>\n    <tr>\n      <th>Type 1</th>\n      <th></th>\n      <th></th>\n      <th></th>\n      <th></th>\n      <th></th>\n      <th></th>\n      <th></th>\n    </tr>\n  </thead>\n  <tbody>\n    <tr>\n      <th>Bug</th>\n      <td>373.100000</td>\n      <td>59.0</td>\n      <td>62.600000</td>\n      <td>70.2</td>\n      <td>63.600000</td>\n      <td>67.200000</td>\n      <td>50.500000</td>\n    </tr>\n    <tr>\n      <th>Dark</th>\n      <td>538.333333</td>\n      <td>80.0</td>\n      <td>111.666667</td>\n      <td>69.0</td>\n      <td>95.000000</td>\n      <td>75.666667</td>\n      <td>107.000000</td>\n    </tr>\n    <tr>\n      <th>Dragon</th>\n      <td>502.500000</td>\n      <td>85.5</td>\n      <td>115.000000</td>\n      <td>80.0</td>\n      <td>72.500000</td>\n      <td>70.000000</td>\n      <td>79.500000</td>\n    </tr>\n    <tr>\n      <th>Electric</th>\n      <td>472.416667</td>\n      <td>57.5</td>\n      <td>73.583333</td>\n      <td>85.5</td>\n      <td>90.416667</td>\n      <td>86.583333</td>\n      <td>78.833333</td>\n    </tr>\n    <tr>\n      <th>Fairy</th>\n      <td>545.000000</td>\n      <td>85.0</td>\n      <td>50.000000</td>\n      <td>95.0</td>\n      <td>120.000000</td>\n      <td>115.000000</td>\n      <td>80.000000</td>\n    </tr>\n  </tbody>\n</table>\n</div>"
     },
     "execution_count": 58,
     "metadata": {},
     "output_type": "execute_result"
    }
   ],
   "source": [
    "gen_4_means = gen_4.groupby('Type 1').mean(numeric_only=True)\n",
    "gen_4_means.drop(columns=['#', 'Generation', 'Legendary'], inplace=True)\n",
    "gen_4_means.head()"
   ],
   "metadata": {
    "collapsed": false,
    "pycharm": {
     "name": "#%%\n"
    }
   }
  },
  {
   "cell_type": "code",
   "execution_count": 59,
   "outputs": [
    {
     "data": {
      "text/plain": "<Figure size 432x288 with 4 Axes>",
      "image/png": "[encoded data removed]"
     },
     "metadata": {
      "needs_background": "light"
     },
     "output_type": "display_data"
    }
   ],
   "source": [
    "fig, axs = plt.subplots(2, 2, sharey=True, tight_layout=True)\n",
    "axs[0][0].hist(gen_4['HP'], label='HP')\n",
    "axs[0][1].hist(gen_4['Attack'], label='Attack', color='red')\n",
    "axs[1][0].hist(gen_4['Speed'], label='Speed', color='green')\n",
    "axs[1][1].hist(gen_4['Defense'], label='Defense', color='purple')\n",
    "fig.legend()\n",
    "fig.savefig('images/gen_4_charts.jpg')"
   ],
   "metadata": {
    "collapsed": false,
    "pycharm": {
     "name": "#%%\n"
    }
   }
  },
  {
   "cell_type": "markdown",
   "source": [
    "### Gen 5 Charts"
   ],
   "metadata": {
    "collapsed": false,
    "pycharm": {
     "name": "#%% md\n"
    }
   }
  },
  {
   "cell_type": "code",
   "execution_count": 60,
   "outputs": [
    {
     "data": {
      "text/plain": "       #       Name   Type 1 Type 2  Total   HP  Attack  Defense  Sp. Atk  \\\n553  494    Victini  Psychic   Fire    600  100     100      100      100   \n554  495      Snivy    Grass    NaN    308   45      45       55       45   \n555  496    Servine    Grass    NaN    413   60      60       75       60   \n556  497  Serperior    Grass    NaN    528   75      75       95       75   \n557  498      Tepig     Fire    NaN    308   65      63       45       45   \n\n     Sp. Def  Speed  Generation  Legendary  \n553      100    100           5       True  \n554       55     63           5      False  \n555       75     83           5      False  \n556       95    113           5      False  \n557       45     45           5      False  ",
      "text/html": "<div>\n<style scoped>\n    .dataframe tbody tr th:only-of-type {\n        vertical-align: middle;\n    }\n\n    .dataframe tbody tr th {\n        vertical-align: top;\n    }\n\n    .dataframe thead th {\n        text-align: right;\n    }\n</style>\n<table border=\"1\" class=\"dataframe\">\n  <thead>\n    <tr style=\"text-align: right;\">\n      <th></th>\n      <th>#</th>\n      <th>Name</th>\n      <th>Type 1</th>\n      <th>Type 2</th>\n      <th>Total</th>\n      <th>HP</th>\n      <th>Attack</th>\n      <th>Defense</th>\n      <th>Sp. Atk</th>\n      <th>Sp. Def</th>\n      <th>Speed</th>\n      <th>Generation</th>\n      <th>Legendary</th>\n    </tr>\n  </thead>\n  <tbody>\n    <tr>\n      <th>553</th>\n      <td>494</td>\n      <td>Victini</td>\n      <td>Psychic</td>\n      <td>Fire</td>\n      <td>600</td>\n      <td>100</td>\n      <td>100</td>\n      <td>100</td>\n      <td>100</td>\n      <td>100</td>\n      <td>100</td>\n      <td>5</td>\n      <td>True</td>\n    </tr>\n    <tr>\n      <th>554</th>\n      <td>495</td>\n      <td>Snivy</td>\n      <td>Grass</td>\n      <td>NaN</td>\n      <td>308</td>\n      <td>45</td>\n      <td>45</td>\n      <td>55</td>\n      <td>45</td>\n      <td>55</td>\n      <td>63</td>\n      <td>5</td>\n      <td>False</td>\n    </tr>\n    <tr>\n      <th>555</th>\n      <td>496</td>\n      <td>Servine</td>\n      <td>Grass</td>\n      <td>NaN</td>\n      <td>413</td>\n      <td>60</td>\n      <td>60</td>\n      <td>75</td>\n      <td>60</td>\n      <td>75</td>\n      <td>83</td>\n      <td>5</td>\n      <td>False</td>\n    </tr>\n    <tr>\n      <th>556</th>\n      <td>497</td>\n      <td>Serperior</td>\n      <td>Grass</td>\n      <td>NaN</td>\n      <td>528</td>\n      <td>75</td>\n      <td>75</td>\n      <td>95</td>\n      <td>75</td>\n      <td>95</td>\n      <td>113</td>\n      <td>5</td>\n      <td>False</td>\n    </tr>\n    <tr>\n      <th>557</th>\n      <td>498</td>\n      <td>Tepig</td>\n      <td>Fire</td>\n      <td>NaN</td>\n      <td>308</td>\n      <td>65</td>\n      <td>63</td>\n      <td>45</td>\n      <td>45</td>\n      <td>45</td>\n      <td>45</td>\n      <td>5</td>\n      <td>False</td>\n    </tr>\n  </tbody>\n</table>\n</div>"
     },
     "execution_count": 60,
     "metadata": {},
     "output_type": "execute_result"
    }
   ],
   "source": [
    "gen_5 = poke_df.query('Generation==5')\n",
    "gen_5.head()"
   ],
   "metadata": {
    "collapsed": false,
    "pycharm": {
     "name": "#%%\n"
    }
   }
  },
  {
   "cell_type": "code",
   "execution_count": 61,
   "outputs": [
    {
     "data": {
      "text/plain": "               Total         HP      Attack    Defense    Sp. Atk    Sp. Def  \\\nType 1                                                                         \nBug       416.111111  59.111111   77.611111  78.277778  62.888889  66.944444   \nDark      417.923077  63.538462   81.384615  71.692308  65.615385  65.538462   \nDragon    575.000000  93.333333  129.000000  90.000000  97.777778  83.333333   \nElectric  446.875000  64.750000   88.750000  60.625000  87.500000  63.125000   \nFighting  429.285714  81.428571  108.571429  72.142857  47.142857  60.000000   \n\n              Speed  \nType 1               \nBug       71.277778  \nDark      70.153846  \nDragon    81.555556  \nElectric  82.125000  \nFighting  60.000000  ",
      "text/html": "<div>\n<style scoped>\n    .dataframe tbody tr th:only-of-type {\n        vertical-align: middle;\n    }\n\n    .dataframe tbody tr th {\n        vertical-align: top;\n    }\n\n    .dataframe thead th {\n        text-align: right;\n    }\n</style>\n<table border=\"1\" class=\"dataframe\">\n  <thead>\n    <tr style=\"text-align: right;\">\n      <th></th>\n      <th>Total</th>\n      <th>HP</th>\n      <th>Attack</th>\n      <th>Defense</th>\n      <th>Sp. Atk</th>\n      <th>Sp. Def</th>\n      <th>Speed</th>\n    </tr>\n    <tr>\n      <th>Type 1</th>\n      <th></th>\n      <th></th>\n      <th></th>\n      <th></th>\n      <th></th>\n      <th></th>\n      <th></th>\n    </tr>\n  </thead>\n  <tbody>\n    <tr>\n      <th>Bug</th>\n      <td>416.111111</td>\n      <td>59.111111</td>\n      <td>77.611111</td>\n      <td>78.277778</td>\n      <td>62.888889</td>\n      <td>66.944444</td>\n      <td>71.277778</td>\n    </tr>\n    <tr>\n      <th>Dark</th>\n      <td>417.923077</td>\n      <td>63.538462</td>\n      <td>81.384615</td>\n      <td>71.692308</td>\n      <td>65.615385</td>\n      <td>65.538462</td>\n      <td>70.153846</td>\n    </tr>\n    <tr>\n      <th>Dragon</th>\n      <td>575.000000</td>\n      <td>93.333333</td>\n      <td>129.000000</td>\n      <td>90.000000</td>\n      <td>97.777778</td>\n      <td>83.333333</td>\n      <td>81.555556</td>\n    </tr>\n    <tr>\n      <th>Electric</th>\n      <td>446.875000</td>\n      <td>64.750000</td>\n      <td>88.750000</td>\n      <td>60.625000</td>\n      <td>87.500000</td>\n      <td>63.125000</td>\n      <td>82.125000</td>\n    </tr>\n    <tr>\n      <th>Fighting</th>\n      <td>429.285714</td>\n      <td>81.428571</td>\n      <td>108.571429</td>\n      <td>72.142857</td>\n      <td>47.142857</td>\n      <td>60.000000</td>\n      <td>60.000000</td>\n    </tr>\n  </tbody>\n</table>\n</div>"
     },
     "execution_count": 61,
     "metadata": {},
     "output_type": "execute_result"
    }
   ],
   "source": [
    "gen_5_means = gen_5.groupby('Type 1').mean(numeric_only=True)\n",
    "gen_5_means.drop(columns=['#', 'Generation', 'Legendary'], inplace=True)\n",
    "gen_5_means.head()"
   ],
   "metadata": {
    "collapsed": false,
    "pycharm": {
     "name": "#%%\n"
    }
   }
  },
  {
   "cell_type": "code",
   "execution_count": 62,
   "outputs": [
    {
     "data": {
      "text/plain": "<Figure size 432x288 with 4 Axes>",
      "image/png": "[encoded data removed]"
     },
     "metadata": {
      "needs_background": "light"
     },
     "output_type": "display_data"
    }
   ],
   "source": [
    "fig, axs = plt.subplots(2, 2, sharey=True, tight_layout=True)\n",
    "axs[0][0].hist(gen_5['HP'], label='HP')\n",
    "axs[0][1].hist(gen_5['Attack'], label='Attack', color='red')\n",
    "axs[1][0].hist(gen_5['Speed'], label='Speed', color='green')\n",
    "axs[1][1].hist(gen_5['Defense'], label='Defense', color='purple')\n",
    "fig.legend()\n",
    "fig.savefig('images/gen_5_charts.jpg')"
   ],
   "metadata": {
    "collapsed": false,
    "pycharm": {
     "name": "#%%\n"
    }
   }
  },
  {
   "cell_type": "markdown",
   "source": [
    "### Gen 6 Charts"
   ],
   "metadata": {
    "collapsed": false,
    "pycharm": {
     "name": "#%% md\n"
    }
   }
  },
  {
   "cell_type": "code",
   "execution_count": 63,
   "outputs": [
    {
     "data": {
      "text/plain": "       #        Name Type 1    Type 2  Total  HP  Attack  Defense  Sp. Atk  \\\n718  650     Chespin  Grass       NaN    313  56      61       65       48   \n719  651   Quilladin  Grass       NaN    405  61      78       95       56   \n720  652  Chesnaught  Grass  Fighting    530  88     107      122       74   \n721  653    Fennekin   Fire       NaN    307  40      45       40       62   \n722  654     Braixen   Fire       NaN    409  59      59       58       90   \n\n     Sp. Def  Speed  Generation  Legendary  \n718       45     38           6      False  \n719       58     57           6      False  \n720       75     64           6      False  \n721       60     60           6      False  \n722       70     73           6      False  ",
      "text/html": "<div>\n<style scoped>\n    .dataframe tbody tr th:only-of-type {\n        vertical-align: middle;\n    }\n\n    .dataframe tbody tr th {\n        vertical-align: top;\n    }\n\n    .dataframe thead th {\n        text-align: right;\n    }\n</style>\n<table border=\"1\" class=\"dataframe\">\n  <thead>\n    <tr style=\"text-align: right;\">\n      <th></th>\n      <th>#</th>\n      <th>Name</th>\n      <th>Type 1</th>\n      <th>Type 2</th>\n      <th>Total</th>\n      <th>HP</th>\n      <th>Attack</th>\n      <th>Defense</th>\n      <th>Sp. Atk</th>\n      <th>Sp. Def</th>\n      <th>Speed</th>\n      <th>Generation</th>\n      <th>Legendary</th>\n    </tr>\n  </thead>\n  <tbody>\n    <tr>\n      <th>718</th>\n      <td>650</td>\n      <td>Chespin</td>\n      <td>Grass</td>\n      <td>NaN</td>\n      <td>313</td>\n      <td>56</td>\n      <td>61</td>\n      <td>65</td>\n      <td>48</td>\n      <td>45</td>\n      <td>38</td>\n      <td>6</td>\n      <td>False</td>\n    </tr>\n    <tr>\n      <th>719</th>\n      <td>651</td>\n      <td>Quilladin</td>\n      <td>Grass</td>\n      <td>NaN</td>\n      <td>405</td>\n      <td>61</td>\n      <td>78</td>\n      <td>95</td>\n      <td>56</td>\n      <td>58</td>\n      <td>57</td>\n      <td>6</td>\n      <td>False</td>\n    </tr>\n    <tr>\n      <th>720</th>\n      <td>652</td>\n      <td>Chesnaught</td>\n      <td>Grass</td>\n      <td>Fighting</td>\n      <td>530</td>\n      <td>88</td>\n      <td>107</td>\n      <td>122</td>\n      <td>74</td>\n      <td>75</td>\n      <td>64</td>\n      <td>6</td>\n      <td>False</td>\n    </tr>\n    <tr>\n      <th>721</th>\n      <td>653</td>\n      <td>Fennekin</td>\n      <td>Fire</td>\n      <td>NaN</td>\n      <td>307</td>\n      <td>40</td>\n      <td>45</td>\n      <td>40</td>\n      <td>62</td>\n      <td>60</td>\n      <td>60</td>\n      <td>6</td>\n      <td>False</td>\n    </tr>\n    <tr>\n      <th>722</th>\n      <td>654</td>\n      <td>Braixen</td>\n      <td>Fire</td>\n      <td>NaN</td>\n      <td>409</td>\n      <td>59</td>\n      <td>59</td>\n      <td>58</td>\n      <td>90</td>\n      <td>70</td>\n      <td>73</td>\n      <td>6</td>\n      <td>False</td>\n    </tr>\n  </tbody>\n</table>\n</div>"
     },
     "execution_count": 63,
     "metadata": {},
     "output_type": "execute_result"
    }
   ],
   "source": [
    "gen_6 = poke_df.query('Generation==6')\n",
    "gen_6.head()"
   ],
   "metadata": {
    "collapsed": false,
    "pycharm": {
     "name": "#%%\n"
    }
   }
  },
  {
   "cell_type": "code",
   "execution_count": 64,
   "outputs": [
    {
     "data": {
      "text/plain": "               Total         HP     Attack    Defense    Sp. Atk     Sp. Def  \\\nType 1                                                                         \nBug       274.666667  54.333333  36.333333  50.000000  48.000000   35.000000   \nDark      483.333333  88.333333  92.333333  78.666667  78.666667   73.000000   \nDragon    488.000000  77.750000  81.250000  69.750000  82.250000  108.250000   \nElectric  400.333333  57.666667  50.333333  47.333333  83.666667   68.000000   \nFairy     450.555556  80.000000  66.222222  66.444444  88.333333   93.888889   \n\n              Speed  \nType 1               \nBug       51.000000  \nDark      72.333333  \nDragon    68.750000  \nElectric  93.333333  \nFairy     55.666667  ",
      "text/html": "<div>\n<style scoped>\n    .dataframe tbody tr th:only-of-type {\n        vertical-align: middle;\n    }\n\n    .dataframe tbody tr th {\n        vertical-align: top;\n    }\n\n    .dataframe thead th {\n        text-align: right;\n    }\n</style>\n<table border=\"1\" class=\"dataframe\">\n  <thead>\n    <tr style=\"text-align: right;\">\n      <th></th>\n      <th>Total</th>\n      <th>HP</th>\n      <th>Attack</th>\n      <th>Defense</th>\n      <th>Sp. Atk</th>\n      <th>Sp. Def</th>\n      <th>Speed</th>\n    </tr>\n    <tr>\n      <th>Type 1</th>\n      <th></th>\n      <th></th>\n      <th></th>\n      <th></th>\n      <th></th>\n      <th></th>\n      <th></th>\n    </tr>\n  </thead>\n  <tbody>\n    <tr>\n      <th>Bug</th>\n      <td>274.666667</td>\n      <td>54.333333</td>\n      <td>36.333333</td>\n      <td>50.000000</td>\n      <td>48.000000</td>\n      <td>35.000000</td>\n      <td>51.000000</td>\n    </tr>\n    <tr>\n      <th>Dark</th>\n      <td>483.333333</td>\n      <td>88.333333</td>\n      <td>92.333333</td>\n      <td>78.666667</td>\n      <td>78.666667</td>\n      <td>73.000000</td>\n      <td>72.333333</td>\n    </tr>\n    <tr>\n      <th>Dragon</th>\n      <td>488.000000</td>\n      <td>77.750000</td>\n      <td>81.250000</td>\n      <td>69.750000</td>\n      <td>82.250000</td>\n      <td>108.250000</td>\n      <td>68.750000</td>\n    </tr>\n    <tr>\n      <th>Electric</th>\n      <td>400.333333</td>\n      <td>57.666667</td>\n      <td>50.333333</td>\n      <td>47.333333</td>\n      <td>83.666667</td>\n      <td>68.000000</td>\n      <td>93.333333</td>\n    </tr>\n    <tr>\n      <th>Fairy</th>\n      <td>450.555556</td>\n      <td>80.000000</td>\n      <td>66.222222</td>\n      <td>66.444444</td>\n      <td>88.333333</td>\n      <td>93.888889</td>\n      <td>55.666667</td>\n    </tr>\n  </tbody>\n</table>\n</div>"
     },
     "execution_count": 64,
     "metadata": {},
     "output_type": "execute_result"
    }
   ],
   "source": [
    "gen_6_means = gen_6.groupby('Type 1').mean(numeric_only=True)\n",
    "gen_6_means.drop(columns=['#', 'Generation', 'Legendary'], inplace=True)\n",
    "gen_6_means.head()"
   ],
   "metadata": {
    "collapsed": false,
    "pycharm": {
     "name": "#%%\n"
    }
   }
  },
  {
   "cell_type": "code",
   "execution_count": 65,
   "outputs": [
    {
     "data": {
      "text/plain": "<Figure size 432x288 with 4 Axes>",
      "image/png": "[encoded data removed]"
     },
     "metadata": {
      "needs_background": "light"
     },
     "output_type": "display_data"
    }
   ],
   "source": [
    "fig, axs = plt.subplots(2, 2, sharey=True, tight_layout=True)\n",
    "axs[0][0].hist(gen_6['HP'], label='HP')\n",
    "axs[0][1].hist(gen_6['Attack'], label='Attack', color='red')\n",
    "axs[1][0].hist(gen_6['Speed'], label='Speed', color='green')\n",
    "axs[1][1].hist(gen_6['Defense'], label='Defense', color='purple')\n",
    "fig.legend()\n",
    "fig.savefig('images/gen_6_charts.jpg')"
   ],
   "metadata": {
    "collapsed": false,
    "pycharm": {
     "name": "#%%\n"
    }
   }
  },
  {
   "cell_type": "markdown",
   "source": [
    "## EDA Cross Generation\n",
    "\n",
    "For this section each generation has its own color.\n",
    "\n",
    "| Color | Generation |\n",
    "---------- | --------\n",
    "Blue | Gen 1 |\n",
    "Gold | Gen 2 |\n",
    "Orange | Gen 3 |\n",
    "Purple | Gen 4 |\n",
    "Grey | Gen 5 |\n",
    "Cyan | Gen 6 |"
   ],
   "metadata": {
    "collapsed": false
   }
  },
  {
   "cell_type": "code",
   "source": [
    "fig, axs = plt.subplots(2, 3, sharey=True, tight_layout=True)\n",
    "axs[0][0].hist(gen_1['HP'], label='Gen 1', color='blue')\n",
    "axs[0][1].hist(gen_2['HP'], label='Gen 2', color='gold')\n",
    "axs[0][2].hist(gen_3['HP'], label='Gen 3', color='orange')\n",
    "axs[1][0].hist(gen_4['HP'], label='Gen 4', color='purple')\n",
    "axs[1][1].hist(gen_5['HP'], label='Gen 5', color='grey')\n",
    "axs[1][2].hist(gen_6['HP'], label='Gen 6', color='cyan')\n",
    "fig.legend()\n",
    "fig.savefig('images/hp_compare.jpg')"
   ],
   "metadata": {
    "collapsed": false,
    "pycharm": {
     "name": "#%%\n"
    }
   },
   "execution_count": 82,
   "outputs": [
    {
     "data": {
      "text/plain": "<Figure size 432x288 with 6 Axes>",
      "image/png": "[encoded data removed]"
     },
     "metadata": {
      "needs_background": "light"
     },
     "output_type": "display_data"
    }
   ]
  },
  {
   "cell_type": "code",
   "execution_count": 83,
   "outputs": [
    {
     "data": {
      "text/plain": "<Figure size 432x288 with 6 Axes>",
      "image/png": "[encoded data removed]"
     },
     "metadata": {
      "needs_background": "light"
     },
     "output_type": "display_data"
    }
   ],
   "source": [
    "fig, axs = plt.subplots(2, 3, sharey=True, tight_layout=True)\n",
    "axs[0][0].hist(gen_1['Attack'], label='Gen 1', color='blue')\n",
    "axs[0][1].hist(gen_2['Attack'], label='Gen 2', color='gold')\n",
    "axs[0][2].hist(gen_3['Attack'], label='Gen 3', color='orange')\n",
    "axs[1][0].hist(gen_4['Attack'], label='Gen 4', color='purple')\n",
    "axs[1][1].hist(gen_5['Attack'], label='Gen 5', color='grey')\n",
    "axs[1][2].hist(gen_6['Attack'], label='Gen 6', color='cyan')\n",
    "fig.legend()\n",
    "fig.savefig('images/attack_compare.jpg')"
   ],
   "metadata": {
    "collapsed": false,
    "pycharm": {
     "name": "#%%\n"
    }
   }
  },
  {
   "cell_type": "code",
   "execution_count": 84,
   "outputs": [
    {
     "data": {
      "text/plain": "<Figure size 432x288 with 6 Axes>",
      "image/png": "[encoded data removed]"
     },
     "metadata": {
      "needs_background": "light"
     },
     "output_type": "display_data"
    }
   ],
   "source": [
    "fig, axs = plt.subplots(2, 3, sharey=True, tight_layout=True)\n",
    "axs[0][0].hist(gen_1['Defense'], label='Gen 1', color='blue')\n",
    "axs[0][1].hist(gen_2['Defense'], label='Gen 2', color='gold')\n",
    "axs[0][2].hist(gen_3['Defense'], label='Gen 3', color='orange')\n",
    "axs[1][0].hist(gen_4['Defense'], label='Gen 4', color='purple')\n",
    "axs[1][1].hist(gen_5['Defense'], label='Gen 5', color='grey')\n",
    "axs[1][2].hist(gen_6['Defense'], label='Gen 6', color='cyan')\n",
    "fig.legend()\n",
    "fig.savefig('images/defense_compare.jpg')"
   ],
   "metadata": {
    "collapsed": false,
    "pycharm": {
     "name": "#%%\n"
    }
   }
  },
  {
   "cell_type": "code",
   "execution_count": 85,
   "outputs": [
    {
     "data": {
      "text/plain": "<Figure size 432x288 with 6 Axes>",
      "image/png": "[encoded data removed]"
     },
     "metadata": {
      "needs_background": "light"
     },
     "output_type": "display_data"
    }
   ],
   "source": [
    "fig, axs = plt.subplots(2, 3, sharey=True, tight_layout=True)\n",
    "axs[0][0].hist(gen_1['Speed'], label='Gen 1', color='blue')\n",
    "axs[0][1].hist(gen_2['Speed'], label='Gen 2', color='gold')\n",
    "axs[0][2].hist(gen_3['Speed'], label='Gen 3', color='orange')\n",
    "axs[1][0].hist(gen_4['Speed'], label='Gen 4', color='purple')\n",
    "axs[1][1].hist(gen_5['Speed'], label='Gen 5', color='grey')\n",
    "axs[1][2].hist(gen_6['Speed'], label='Gen 6', color='cyan')\n",
    "fig.legend()\n",
    "fig.savefig('images/speed_compare.jpg')"
   ],
   "metadata": {
    "collapsed": false,
    "pycharm": {
     "name": "#%%\n"
    }
   }
  },
  {
   "cell_type": "code",
   "execution_count": null,
   "outputs": [],
   "source": [],
   "metadata": {
    "collapsed": false,
    "pycharm": {
     "name": "#%%\n"
    }
   }
  }
 ],
 "metadata": {
  "kernelspec": {
   "display_name": "Python 3",
   "language": "python",
   "name": "python3"
  },
  "language_info": {
   "codemirror_mode": {
    "name": "ipython",
    "version": 2
   },
   "file_extension": ".py",
   "mimetype": "text/x-python",
   "name": "python",
   "nbconvert_exporter": "python",
   "pygments_lexer": "ipython2",
   "version": "2.7.6"
  }
 },
 "nbformat": 4,
 "nbformat_minor": 0
}