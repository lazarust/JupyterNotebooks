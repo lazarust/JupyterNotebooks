{
 "cells": [
  {
   "cell_type": "markdown",
   "metadata": {},
   "source": [
    "# Movie Genre Guesser"
   ]
  },
  {
   "cell_type": "markdown",
   "metadata": {},
   "source": [
    "## Setup"
   ]
  },
  {
   "cell_type": "markdown",
   "metadata": {},
   "source": [
    "### Imports and Read in Data"
   ]
  },
  {
   "cell_type": "code",
   "execution_count": 28,
   "metadata": {},
   "outputs": [],
   "source": [
    "import matplotlib.pyplot as plt\n",
    "import pandas as pd\n",
    "\n",
    "df_ratings = pd.read_csv('data/IMDb ratings.csv', low_memory=False)\n",
    "df_movies = pd.read_csv('data/IMDb movies.csv', low_memory=False)"
   ]
  },
  {
   "cell_type": "code",
   "execution_count": 29,
   "metadata": {},
   "outputs": [
    {
     "data": {
      "text/plain": "  imdb_title_id                        title               original_title  \\\n0     tt0000009                   Miss Jerry                   Miss Jerry   \n1     tt0000574  The Story of the Kelly Gang  The Story of the Kelly Gang   \n2     tt0001892               Den sorte drøm               Den sorte drøm   \n3     tt0002101                    Cleopatra                    Cleopatra   \n4     tt0002130                    L'Inferno                    L'Inferno   \n\n   year date_published                      genre  duration           country  \\\n0  1894     1894-10-09                    Romance        45               USA   \n1  1906     1906-12-26    Biography, Crime, Drama        70         Australia   \n2  1911     1911-08-19                      Drama        53  Germany, Denmark   \n3  1912     1912-11-13             Drama, History       100               USA   \n4  1911     1911-03-06  Adventure, Drama, Fantasy        68             Italy   \n\n  language                             director  ...  \\\n0     None                      Alexander Black  ...   \n1     None                         Charles Tait  ...   \n2      NaN                            Urban Gad  ...   \n3  English                   Charles L. Gaskill  ...   \n4  Italian  Francesco Bertolini, Adolfo Padovan  ...   \n\n                                              actors  \\\n0  Blanche Bayliss, William Courtenay, Chauncey D...   \n1  Elizabeth Tait, John Tait, Norman Campbell, Be...   \n2  Asta Nielsen, Valdemar Psilander, Gunnar Helse...   \n3  Helen Gardner, Pearl Sindelar, Miss Fielding, ...   \n4  Salvatore Papa, Arturo Pirovano, Giuseppe de L...   \n\n                                         description avg_vote votes   budget  \\\n0  The adventures of a female reporter in the 1890s.      5.9   154      NaN   \n1  True story of notorious Australian outlaw Ned ...      6.1   589   $ 2250   \n2  Two men of high rank are both wooing the beaut...      5.8   188      NaN   \n3  The fabled queen of Egypt's affair with Roman ...      5.2   446  $ 45000   \n4  Loosely adapted from Dante's Divine Comedy and...      7.0  2237      NaN   \n\n   usa_gross_income worlwide_gross_income metascore reviews_from_users  \\\n0               NaN                   NaN       NaN                1.0   \n1               NaN                   NaN       NaN                7.0   \n2               NaN                   NaN       NaN                5.0   \n3               NaN                   NaN       NaN               25.0   \n4               NaN                   NaN       NaN               31.0   \n\n   reviews_from_critics  \n0                   2.0  \n1                   7.0  \n2                   2.0  \n3                   3.0  \n4                  14.0  \n\n[5 rows x 22 columns]",
      "text/html": "<div>\n<style scoped>\n    .dataframe tbody tr th:only-of-type {\n        vertical-align: middle;\n    }\n\n    .dataframe tbody tr th {\n        vertical-align: top;\n    }\n\n    .dataframe thead th {\n        text-align: right;\n    }\n</style>\n<table border=\"1\" class=\"dataframe\">\n  <thead>\n    <tr style=\"text-align: right;\">\n      <th></th>\n      <th>imdb_title_id</th>\n      <th>title</th>\n      <th>original_title</th>\n      <th>year</th>\n      <th>date_published</th>\n      <th>genre</th>\n      <th>duration</th>\n      <th>country</th>\n      <th>language</th>\n      <th>director</th>\n      <th>...</th>\n      <th>actors</th>\n      <th>description</th>\n      <th>avg_vote</th>\n      <th>votes</th>\n      <th>budget</th>\n      <th>usa_gross_income</th>\n      <th>worlwide_gross_income</th>\n      <th>metascore</th>\n      <th>reviews_from_users</th>\n      <th>reviews_from_critics</th>\n    </tr>\n  </thead>\n  <tbody>\n    <tr>\n      <th>0</th>\n      <td>tt0000009</td>\n      <td>Miss Jerry</td>\n      <td>Miss Jerry</td>\n      <td>1894</td>\n      <td>1894-10-09</td>\n      <td>Romance</td>\n      <td>45</td>\n      <td>USA</td>\n      <td>None</td>\n      <td>Alexander Black</td>\n      <td>...</td>\n      <td>Blanche Bayliss, William Courtenay, Chauncey D...</td>\n      <td>The adventures of a female reporter in the 1890s.</td>\n      <td>5.9</td>\n      <td>154</td>\n      <td>NaN</td>\n      <td>NaN</td>\n      <td>NaN</td>\n      <td>NaN</td>\n      <td>1.0</td>\n      <td>2.0</td>\n    </tr>\n    <tr>\n      <th>1</th>\n      <td>tt0000574</td>\n      <td>The Story of the Kelly Gang</td>\n      <td>The Story of the Kelly Gang</td>\n      <td>1906</td>\n      <td>1906-12-26</td>\n      <td>Biography, Crime, Drama</td>\n      <td>70</td>\n      <td>Australia</td>\n      <td>None</td>\n      <td>Charles Tait</td>\n      <td>...</td>\n      <td>Elizabeth Tait, John Tait, Norman Campbell, Be...</td>\n      <td>True story of notorious Australian outlaw Ned ...</td>\n      <td>6.1</td>\n      <td>589</td>\n      <td>$ 2250</td>\n      <td>NaN</td>\n      <td>NaN</td>\n      <td>NaN</td>\n      <td>7.0</td>\n      <td>7.0</td>\n    </tr>\n    <tr>\n      <th>2</th>\n      <td>tt0001892</td>\n      <td>Den sorte drøm</td>\n      <td>Den sorte drøm</td>\n      <td>1911</td>\n      <td>1911-08-19</td>\n      <td>Drama</td>\n      <td>53</td>\n      <td>Germany, Denmark</td>\n      <td>NaN</td>\n      <td>Urban Gad</td>\n      <td>...</td>\n      <td>Asta Nielsen, Valdemar Psilander, Gunnar Helse...</td>\n      <td>Two men of high rank are both wooing the beaut...</td>\n      <td>5.8</td>\n      <td>188</td>\n      <td>NaN</td>\n      <td>NaN</td>\n      <td>NaN</td>\n      <td>NaN</td>\n      <td>5.0</td>\n      <td>2.0</td>\n    </tr>\n    <tr>\n      <th>3</th>\n      <td>tt0002101</td>\n      <td>Cleopatra</td>\n      <td>Cleopatra</td>\n      <td>1912</td>\n      <td>1912-11-13</td>\n      <td>Drama, History</td>\n      <td>100</td>\n      <td>USA</td>\n      <td>English</td>\n      <td>Charles L. Gaskill</td>\n      <td>...</td>\n      <td>Helen Gardner, Pearl Sindelar, Miss Fielding, ...</td>\n      <td>The fabled queen of Egypt's affair with Roman ...</td>\n      <td>5.2</td>\n      <td>446</td>\n      <td>$ 45000</td>\n      <td>NaN</td>\n      <td>NaN</td>\n      <td>NaN</td>\n      <td>25.0</td>\n      <td>3.0</td>\n    </tr>\n    <tr>\n      <th>4</th>\n      <td>tt0002130</td>\n      <td>L'Inferno</td>\n      <td>L'Inferno</td>\n      <td>1911</td>\n      <td>1911-03-06</td>\n      <td>Adventure, Drama, Fantasy</td>\n      <td>68</td>\n      <td>Italy</td>\n      <td>Italian</td>\n      <td>Francesco Bertolini, Adolfo Padovan</td>\n      <td>...</td>\n      <td>Salvatore Papa, Arturo Pirovano, Giuseppe de L...</td>\n      <td>Loosely adapted from Dante's Divine Comedy and...</td>\n      <td>7.0</td>\n      <td>2237</td>\n      <td>NaN</td>\n      <td>NaN</td>\n      <td>NaN</td>\n      <td>NaN</td>\n      <td>31.0</td>\n      <td>14.0</td>\n    </tr>\n  </tbody>\n</table>\n<p>5 rows × 22 columns</p>\n</div>"
     },
     "execution_count": 29,
     "metadata": {},
     "output_type": "execute_result"
    }
   ],
   "source": [
    "df_movies.head()"
   ]
  },
  {
   "cell_type": "code",
   "execution_count": 30,
   "metadata": {},
   "outputs": [
    {
     "data": {
      "text/plain": "  imdb_title_id  weighted_average_vote  total_votes  mean_vote  median_vote  \\\n0     tt0000009                    5.9          154        5.9          6.0   \n1     tt0000574                    6.1          589        6.3          6.0   \n2     tt0001892                    5.8          188        6.0          6.0   \n3     tt0002101                    5.2          446        5.3          5.0   \n4     tt0002130                    7.0         2237        6.9          7.0   \n\n   votes_10  votes_9  votes_8  votes_7  votes_6  ...  females_30age_avg_vote  \\\n0        12        4       10       43       28  ...                     5.7   \n1        57       18       58      137      139  ...                     6.2   \n2         6        6       17       44       52  ...                     5.8   \n3        15        8       16       62       98  ...                     5.5   \n4       210      225      436      641      344  ...                     7.3   \n\n   females_30age_votes  females_45age_avg_vote  females_45age_votes  \\\n0                 13.0                     4.5                  4.0   \n1                 23.0                     6.6                 14.0   \n2                  4.0                     6.8                  7.0   \n3                 14.0                     6.1                 21.0   \n4                 82.0                     7.4                 77.0   \n\n   top1000_voters_rating  top1000_voters_votes  us_voters_rating  \\\n0                    5.7                  34.0               6.4   \n1                    6.4                  66.0               6.0   \n2                    5.4                  32.0               6.2   \n3                    4.9                  57.0               5.5   \n4                    6.9                 139.0               7.0   \n\n   us_voters_votes  non_us_voters_rating  non_us_voters_votes  \n0             51.0                   6.0                 70.0  \n1             96.0                   6.2                331.0  \n2             31.0                   5.9                123.0  \n3            207.0                   4.7                105.0  \n4            488.0                   7.0               1166.0  \n\n[5 rows x 49 columns]",
      "text/html": "<div>\n<style scoped>\n    .dataframe tbody tr th:only-of-type {\n        vertical-align: middle;\n    }\n\n    .dataframe tbody tr th {\n        vertical-align: top;\n    }\n\n    .dataframe thead th {\n        text-align: right;\n    }\n</style>\n<table border=\"1\" class=\"dataframe\">\n  <thead>\n    <tr style=\"text-align: right;\">\n      <th></th>\n      <th>imdb_title_id</th>\n      <th>weighted_average_vote</th>\n      <th>total_votes</th>\n      <th>mean_vote</th>\n      <th>median_vote</th>\n      <th>votes_10</th>\n      <th>votes_9</th>\n      <th>votes_8</th>\n      <th>votes_7</th>\n      <th>votes_6</th>\n      <th>...</th>\n      <th>females_30age_avg_vote</th>\n      <th>females_30age_votes</th>\n      <th>females_45age_avg_vote</th>\n      <th>females_45age_votes</th>\n      <th>top1000_voters_rating</th>\n      <th>top1000_voters_votes</th>\n      <th>us_voters_rating</th>\n      <th>us_voters_votes</th>\n      <th>non_us_voters_rating</th>\n      <th>non_us_voters_votes</th>\n    </tr>\n  </thead>\n  <tbody>\n    <tr>\n      <th>0</th>\n      <td>tt0000009</td>\n      <td>5.9</td>\n      <td>154</td>\n      <td>5.9</td>\n      <td>6.0</td>\n      <td>12</td>\n      <td>4</td>\n      <td>10</td>\n      <td>43</td>\n      <td>28</td>\n      <td>...</td>\n      <td>5.7</td>\n      <td>13.0</td>\n      <td>4.5</td>\n      <td>4.0</td>\n      <td>5.7</td>\n      <td>34.0</td>\n      <td>6.4</td>\n      <td>51.0</td>\n      <td>6.0</td>\n      <td>70.0</td>\n    </tr>\n    <tr>\n      <th>1</th>\n      <td>tt0000574</td>\n      <td>6.1</td>\n      <td>589</td>\n      <td>6.3</td>\n      <td>6.0</td>\n      <td>57</td>\n      <td>18</td>\n      <td>58</td>\n      <td>137</td>\n      <td>139</td>\n      <td>...</td>\n      <td>6.2</td>\n      <td>23.0</td>\n      <td>6.6</td>\n      <td>14.0</td>\n      <td>6.4</td>\n      <td>66.0</td>\n      <td>6.0</td>\n      <td>96.0</td>\n      <td>6.2</td>\n      <td>331.0</td>\n    </tr>\n    <tr>\n      <th>2</th>\n      <td>tt0001892</td>\n      <td>5.8</td>\n      <td>188</td>\n      <td>6.0</td>\n      <td>6.0</td>\n      <td>6</td>\n      <td>6</td>\n      <td>17</td>\n      <td>44</td>\n      <td>52</td>\n      <td>...</td>\n      <td>5.8</td>\n      <td>4.0</td>\n      <td>6.8</td>\n      <td>7.0</td>\n      <td>5.4</td>\n      <td>32.0</td>\n      <td>6.2</td>\n      <td>31.0</td>\n      <td>5.9</td>\n      <td>123.0</td>\n    </tr>\n    <tr>\n      <th>3</th>\n      <td>tt0002101</td>\n      <td>5.2</td>\n      <td>446</td>\n      <td>5.3</td>\n      <td>5.0</td>\n      <td>15</td>\n      <td>8</td>\n      <td>16</td>\n      <td>62</td>\n      <td>98</td>\n      <td>...</td>\n      <td>5.5</td>\n      <td>14.0</td>\n      <td>6.1</td>\n      <td>21.0</td>\n      <td>4.9</td>\n      <td>57.0</td>\n      <td>5.5</td>\n      <td>207.0</td>\n      <td>4.7</td>\n      <td>105.0</td>\n    </tr>\n    <tr>\n      <th>4</th>\n      <td>tt0002130</td>\n      <td>7.0</td>\n      <td>2237</td>\n      <td>6.9</td>\n      <td>7.0</td>\n      <td>210</td>\n      <td>225</td>\n      <td>436</td>\n      <td>641</td>\n      <td>344</td>\n      <td>...</td>\n      <td>7.3</td>\n      <td>82.0</td>\n      <td>7.4</td>\n      <td>77.0</td>\n      <td>6.9</td>\n      <td>139.0</td>\n      <td>7.0</td>\n      <td>488.0</td>\n      <td>7.0</td>\n      <td>1166.0</td>\n    </tr>\n  </tbody>\n</table>\n<p>5 rows × 49 columns</p>\n</div>"
     },
     "execution_count": 30,
     "metadata": {},
     "output_type": "execute_result"
    }
   ],
   "source": [
    "df_ratings.head()"
   ]
  },
  {
   "cell_type": "markdown",
   "source": [
    "### Removes Unnecessary Columns"
   ],
   "metadata": {
    "collapsed": false
   }
  },
  {
   "cell_type": "code",
   "execution_count": 31,
   "metadata": {},
   "outputs": [],
   "source": [
    "df_ratings.drop(df_ratings.columns[5:], axis='columns', inplace=True)\n",
    "df_ratings.drop(labels= ['weighted_average_vote', 'total_votes'],axis='columns', inplace=True)"
   ]
  },
  {
   "cell_type": "code",
   "execution_count": 32,
   "metadata": {},
   "outputs": [
    {
     "data": {
      "text/plain": "  imdb_title_id  mean_vote  median_vote\n0     tt0000009        5.9          6.0\n1     tt0000574        6.3          6.0\n2     tt0001892        6.0          6.0\n3     tt0002101        5.3          5.0\n4     tt0002130        6.9          7.0",
      "text/html": "<div>\n<style scoped>\n    .dataframe tbody tr th:only-of-type {\n        vertical-align: middle;\n    }\n\n    .dataframe tbody tr th {\n        vertical-align: top;\n    }\n\n    .dataframe thead th {\n        text-align: right;\n    }\n</style>\n<table border=\"1\" class=\"dataframe\">\n  <thead>\n    <tr style=\"text-align: right;\">\n      <th></th>\n      <th>imdb_title_id</th>\n      <th>mean_vote</th>\n      <th>median_vote</th>\n    </tr>\n  </thead>\n  <tbody>\n    <tr>\n      <th>0</th>\n      <td>tt0000009</td>\n      <td>5.9</td>\n      <td>6.0</td>\n    </tr>\n    <tr>\n      <th>1</th>\n      <td>tt0000574</td>\n      <td>6.3</td>\n      <td>6.0</td>\n    </tr>\n    <tr>\n      <th>2</th>\n      <td>tt0001892</td>\n      <td>6.0</td>\n      <td>6.0</td>\n    </tr>\n    <tr>\n      <th>3</th>\n      <td>tt0002101</td>\n      <td>5.3</td>\n      <td>5.0</td>\n    </tr>\n    <tr>\n      <th>4</th>\n      <td>tt0002130</td>\n      <td>6.9</td>\n      <td>7.0</td>\n    </tr>\n  </tbody>\n</table>\n</div>"
     },
     "execution_count": 32,
     "metadata": {},
     "output_type": "execute_result"
    }
   ],
   "source": [
    "df_ratings.head()"
   ]
  },
  {
   "cell_type": "code",
   "execution_count": 33,
   "metadata": {},
   "outputs": [],
   "source": [
    "df_movies.drop(df_movies.columns[16:], axis='columns', inplace=True)\n",
    "df_movies.drop(['original_title'], axis='columns', inplace=True)"
   ]
  },
  {
   "cell_type": "code",
   "execution_count": 34,
   "metadata": {},
   "outputs": [
    {
     "data": {
      "text/plain": "  imdb_title_id                        title  year date_published  \\\n0     tt0000009                   Miss Jerry  1894     1894-10-09   \n1     tt0000574  The Story of the Kelly Gang  1906     1906-12-26   \n2     tt0001892               Den sorte drøm  1911     1911-08-19   \n3     tt0002101                    Cleopatra  1912     1912-11-13   \n4     tt0002130                    L'Inferno  1911     1911-03-06   \n\n                       genre  duration           country language  \\\n0                    Romance        45               USA     None   \n1    Biography, Crime, Drama        70         Australia     None   \n2                      Drama        53  Germany, Denmark      NaN   \n3             Drama, History       100               USA  English   \n4  Adventure, Drama, Fantasy        68             Italy  Italian   \n\n                              director                                 writer  \\\n0                      Alexander Black                        Alexander Black   \n1                         Charles Tait                           Charles Tait   \n2                            Urban Gad  Urban Gad, Gebhard Schätzler-Perasini   \n3                   Charles L. Gaskill                       Victorien Sardou   \n4  Francesco Bertolini, Adolfo Padovan                        Dante Alighieri   \n\n              production_company  \\\n0     Alexander Black Photoplays   \n1                 J. and N. Tait   \n2                       Fotorama   \n3  Helen Gardner Picture Players   \n4                    Milano Film   \n\n                                              actors  \\\n0  Blanche Bayliss, William Courtenay, Chauncey D...   \n1  Elizabeth Tait, John Tait, Norman Campbell, Be...   \n2  Asta Nielsen, Valdemar Psilander, Gunnar Helse...   \n3  Helen Gardner, Pearl Sindelar, Miss Fielding, ...   \n4  Salvatore Papa, Arturo Pirovano, Giuseppe de L...   \n\n                                         description  avg_vote  votes  \n0  The adventures of a female reporter in the 1890s.       5.9    154  \n1  True story of notorious Australian outlaw Ned ...       6.1    589  \n2  Two men of high rank are both wooing the beaut...       5.8    188  \n3  The fabled queen of Egypt's affair with Roman ...       5.2    446  \n4  Loosely adapted from Dante's Divine Comedy and...       7.0   2237  ",
      "text/html": "<div>\n<style scoped>\n    .dataframe tbody tr th:only-of-type {\n        vertical-align: middle;\n    }\n\n    .dataframe tbody tr th {\n        vertical-align: top;\n    }\n\n    .dataframe thead th {\n        text-align: right;\n    }\n</style>\n<table border=\"1\" class=\"dataframe\">\n  <thead>\n    <tr style=\"text-align: right;\">\n      <th></th>\n      <th>imdb_title_id</th>\n      <th>title</th>\n      <th>year</th>\n      <th>date_published</th>\n      <th>genre</th>\n      <th>duration</th>\n      <th>country</th>\n      <th>language</th>\n      <th>director</th>\n      <th>writer</th>\n      <th>production_company</th>\n      <th>actors</th>\n      <th>description</th>\n      <th>avg_vote</th>\n      <th>votes</th>\n    </tr>\n  </thead>\n  <tbody>\n    <tr>\n      <th>0</th>\n      <td>tt0000009</td>\n      <td>Miss Jerry</td>\n      <td>1894</td>\n      <td>1894-10-09</td>\n      <td>Romance</td>\n      <td>45</td>\n      <td>USA</td>\n      <td>None</td>\n      <td>Alexander Black</td>\n      <td>Alexander Black</td>\n      <td>Alexander Black Photoplays</td>\n      <td>Blanche Bayliss, William Courtenay, Chauncey D...</td>\n      <td>The adventures of a female reporter in the 1890s.</td>\n      <td>5.9</td>\n      <td>154</td>\n    </tr>\n    <tr>\n      <th>1</th>\n      <td>tt0000574</td>\n      <td>The Story of the Kelly Gang</td>\n      <td>1906</td>\n      <td>1906-12-26</td>\n      <td>Biography, Crime, Drama</td>\n      <td>70</td>\n      <td>Australia</td>\n      <td>None</td>\n      <td>Charles Tait</td>\n      <td>Charles Tait</td>\n      <td>J. and N. Tait</td>\n      <td>Elizabeth Tait, John Tait, Norman Campbell, Be...</td>\n      <td>True story of notorious Australian outlaw Ned ...</td>\n      <td>6.1</td>\n      <td>589</td>\n    </tr>\n    <tr>\n      <th>2</th>\n      <td>tt0001892</td>\n      <td>Den sorte drøm</td>\n      <td>1911</td>\n      <td>1911-08-19</td>\n      <td>Drama</td>\n      <td>53</td>\n      <td>Germany, Denmark</td>\n      <td>NaN</td>\n      <td>Urban Gad</td>\n      <td>Urban Gad, Gebhard Schätzler-Perasini</td>\n      <td>Fotorama</td>\n      <td>Asta Nielsen, Valdemar Psilander, Gunnar Helse...</td>\n      <td>Two men of high rank are both wooing the beaut...</td>\n      <td>5.8</td>\n      <td>188</td>\n    </tr>\n    <tr>\n      <th>3</th>\n      <td>tt0002101</td>\n      <td>Cleopatra</td>\n      <td>1912</td>\n      <td>1912-11-13</td>\n      <td>Drama, History</td>\n      <td>100</td>\n      <td>USA</td>\n      <td>English</td>\n      <td>Charles L. Gaskill</td>\n      <td>Victorien Sardou</td>\n      <td>Helen Gardner Picture Players</td>\n      <td>Helen Gardner, Pearl Sindelar, Miss Fielding, ...</td>\n      <td>The fabled queen of Egypt's affair with Roman ...</td>\n      <td>5.2</td>\n      <td>446</td>\n    </tr>\n    <tr>\n      <th>4</th>\n      <td>tt0002130</td>\n      <td>L'Inferno</td>\n      <td>1911</td>\n      <td>1911-03-06</td>\n      <td>Adventure, Drama, Fantasy</td>\n      <td>68</td>\n      <td>Italy</td>\n      <td>Italian</td>\n      <td>Francesco Bertolini, Adolfo Padovan</td>\n      <td>Dante Alighieri</td>\n      <td>Milano Film</td>\n      <td>Salvatore Papa, Arturo Pirovano, Giuseppe de L...</td>\n      <td>Loosely adapted from Dante's Divine Comedy and...</td>\n      <td>7.0</td>\n      <td>2237</td>\n    </tr>\n  </tbody>\n</table>\n</div>"
     },
     "execution_count": 34,
     "metadata": {},
     "output_type": "execute_result"
    }
   ],
   "source": [
    "df_movies.head()"
   ]
  },
  {
   "cell_type": "markdown",
   "metadata": {},
   "source": [
    "### Combines DataFrames"
   ]
  },
  {
   "cell_type": "code",
   "execution_count": 35,
   "metadata": {},
   "outputs": [],
   "source": [
    "df_combined = pd.merge(df_movies, df_ratings, on=\"imdb_title_id\").dropna()"
   ]
  },
  {
   "cell_type": "markdown",
   "metadata": {},
   "source": [
    "## Exploratory Data Analysis (EDA)"
   ]
  },
  {
   "cell_type": "code",
   "execution_count": 36,
   "metadata": {},
   "outputs": [],
   "source": [
    "import re\n",
    "import seaborn as sea"
   ]
  },
  {
   "cell_type": "code",
   "execution_count": 37,
   "metadata": {},
   "outputs": [],
   "source": [
    "df_combined['genre'] = df_combined['genre'].apply(lambda x : x.split(',')[0])\n",
    "df_combined['country'] = df_combined['country'].apply(lambda x : x.split(',')[0])\n",
    "df_combined['director'] = df_combined['director'].apply(lambda x : x.split(',')[0])\n",
    "df_combined['writer'] = df_combined['writer'].apply(lambda x : x.split(',')[0])\n",
    "df_combined['year'] = df_combined['year'].apply(lambda x : re.findall(r'(\\d{4})', x)[0])"
   ]
  },
  {
   "cell_type": "code",
   "execution_count": 38,
   "metadata": {},
   "outputs": [
    {
     "data": {
      "text/plain": "<Figure size 432x288 with 1 Axes>",
      "image/png": "[encoded data removed]"
     },
     "metadata": {},
     "output_type": "display_data"
    }
   ],
   "source": [
    "sea.set_theme()\n",
    "genre_count_plot = sea.countplot(x='genre', data=df_combined)\n",
    "plt.savefig('images/genre_count.png')"
   ]
  },
  {
   "cell_type": "code",
   "execution_count": 39,
   "outputs": [
    {
     "data": {
      "text/plain": "<Figure size 432x288 with 1 Axes>",
      "image/png": "[encoded data removed]"
     },
     "metadata": {},
     "output_type": "display_data"
    }
   ],
   "source": [
    "sea.histplot(x='duration', data=df_combined, stat='count')\n",
    "plt.savefig('images/duration_count.png')"
   ],
   "metadata": {
    "collapsed": false,
    "pycharm": {
     "name": "#%%\n"
    }
   }
  },
  {
   "cell_type": "markdown",
   "source": [
    "In the above chart you can notice that most movies have a duration of under 250. To clean up and normalize\n",
    "the data I have decided to drop all the rows were the duration is created than 250."
   ],
   "metadata": {
    "collapsed": false,
    "pycharm": {
     "name": "#%% md\n"
    }
   }
  },
  {
   "cell_type": "code",
   "execution_count": 40,
   "outputs": [],
   "source": [
    "to_drop = df_combined[~(df_combined['duration'] < 250)].index\n",
    "df_combined.drop(to_drop, inplace=True)"
   ],
   "metadata": {
    "collapsed": false,
    "pycharm": {
     "name": "#%%\n"
    }
   }
  },
  {
   "cell_type": "markdown",
   "source": [
    "### Charts of Data Analysis"
   ],
   "metadata": {
    "collapsed": false,
    "pycharm": {
     "name": "#%% md\n"
    }
   }
  },
  {
   "cell_type": "code",
   "execution_count": 41,
   "outputs": [
    {
     "data": {
      "text/plain": "<Figure size 432x288 with 1 Axes>",
      "image/png": "[encoded data removed]"
     },
     "metadata": {},
     "output_type": "display_data"
    }
   ],
   "source": [
    "sea.histplot(x='duration', data=df_combined, stat='count')\n",
    "plt.savefig('images/count_v_duration.png')"
   ],
   "metadata": {
    "collapsed": false,
    "pycharm": {
     "name": "#%%\n"
    }
   }
  },
  {
   "cell_type": "code",
   "execution_count": 42,
   "outputs": [
    {
     "data": {
      "text/plain": "<Figure size 360x360 with 1 Axes>",
      "image/png": "[encoded data removed]"
     },
     "metadata": {},
     "output_type": "display_data"
    }
   ],
   "source": [
    "sea.displot(x='avg_vote', data=df_combined)\n",
    "plt.savefig('images/count_v_avg_vote.png')"
   ],
   "metadata": {
    "collapsed": false,
    "pycharm": {
     "name": "#%%\n"
    }
   }
  },
  {
   "cell_type": "code",
   "execution_count": 43,
   "outputs": [
    {
     "data": {
      "text/plain": "<Figure size 360x360 with 1 Axes>",
      "image/png": "[encoded data removed]"
     },
     "metadata": {},
     "output_type": "display_data"
    }
   ],
   "source": [
    "sea.displot(x='year', data=df_combined)\n",
    "plt.savefig('images/count_year.png')"
   ],
   "metadata": {
    "collapsed": false,
    "pycharm": {
     "name": "#%%\n"
    }
   }
  },
  {
   "cell_type": "markdown",
   "source": [
    "## The Four Classification Algorithms"
   ],
   "metadata": {
    "collapsed": false,
    "pycharm": {
     "name": "#%% md\n"
    }
   }
  },
  {
   "cell_type": "code",
   "execution_count": 44,
   "outputs": [],
   "source": [
    "from sklearn.model_selection import train_test_split"
   ],
   "metadata": {
    "collapsed": false,
    "pycharm": {
     "name": "#%%\n"
    }
   }
  },
  {
   "cell_type": "markdown",
   "source": [
    "### Mappings and Train/Test Split"
   ],
   "metadata": {
    "collapsed": false,
    "pycharm": {
     "name": "#%% md\n"
    }
   }
  },
  {
   "cell_type": "code",
   "execution_count": 45,
   "outputs": [],
   "source": [
    "genres = list(df_combined['genre'].unique())\n",
    "genre_mapping = {}\n",
    "for x in range(len(genres)):\n",
    "    genre_mapping[genres[x]] = x\n",
    "df_combined['genre'] = df_combined['genre'].map(genre_mapping)"
   ],
   "metadata": {
    "collapsed": false,
    "pycharm": {
     "name": "#%%\n"
    }
   }
  },
  {
   "cell_type": "code",
   "execution_count": 46,
   "outputs": [],
   "source": [
    "companies = list(df_combined['production_company'].unique())\n",
    "production_company_mapping = {}\n",
    "for x in range(len(companies)):\n",
    "    production_company_mapping[companies[x]] = x\n",
    "df_combined['production_company'] = df_combined['production_company'].map(production_company_mapping)"
   ],
   "metadata": {
    "collapsed": false,
    "pycharm": {
     "name": "#%%\n"
    }
   }
  },
  {
   "cell_type": "code",
   "execution_count": 47,
   "outputs": [],
   "source": [
    "countries = list(df_combined['country'].unique())\n",
    "country_mapping = {}\n",
    "for x in range(len(countries)):\n",
    "    country_mapping[countries[x]] = x\n",
    "df_combined['country'] = df_combined['country'].map(country_mapping)"
   ],
   "metadata": {
    "collapsed": false,
    "pycharm": {
     "name": "#%%\n"
    }
   }
  },
  {
   "cell_type": "code",
   "execution_count": 48,
   "outputs": [],
   "source": [
    "directors = list(df_combined['director'].unique())\n",
    "director_mapping = {}\n",
    "for x in range(len(directors)):\n",
    "    director_mapping[directors[x]] = x\n",
    "df_combined['director'] = df_combined['director'].map(director_mapping)"
   ],
   "metadata": {
    "collapsed": false,
    "pycharm": {
     "name": "#%%\n"
    }
   }
  },
  {
   "cell_type": "code",
   "execution_count": 49,
   "outputs": [],
   "source": [
    "writers = list(df_combined['writer'].unique())\n",
    "writer_mapping = {}\n",
    "for x in range(len(writers)):\n",
    "    writer_mapping[writers[x]] = x\n",
    "df_combined['writer'] = df_combined['writer'].map(writer_mapping)"
   ],
   "metadata": {
    "collapsed": false,
    "pycharm": {
     "name": "#%%\n"
    }
   }
  },
  {
   "cell_type": "code",
   "execution_count": 50,
   "outputs": [],
   "source": [
    "df_combined.drop(columns=['imdb_title_id', 'date_published', 'title', 'language', 'actors', 'description'], inplace=True)\n",
    "x_train, x_test= train_test_split(df_combined)"
   ],
   "metadata": {
    "collapsed": false,
    "pycharm": {
     "name": "#%%\n"
    }
   }
  },
  {
   "cell_type": "code",
   "execution_count": 51,
   "outputs": [],
   "source": [
    "train_genres = x_train['genre']\n",
    "del x_train['genre']"
   ],
   "metadata": {
    "collapsed": false,
    "pycharm": {
     "name": "#%%\n"
    }
   }
  },
  {
   "cell_type": "code",
   "execution_count": 52,
   "outputs": [
    {
     "data": {
      "text/plain": "       year  duration  country  director  writer  production_company  \\\n946    1930        79        0        80     179                  96   \n84850  2019       127       19     28853   14137               30495   \n34241  1999        95        0      4667   15020               10241   \n28274  1994       106        4      2207   12084                7089   \n23254  1987       113       11      2031    6346                 181   \n\n       avg_vote  votes  mean_vote  median_vote  \n946         6.0    138        6.0          6.0  \n84850       8.5    430        8.1         10.0  \n34241       4.1    682        4.1          3.0  \n28274       6.6    196        6.4          7.0  \n23254       7.3  12196        7.4          8.0  ",
      "text/html": "<div>\n<style scoped>\n    .dataframe tbody tr th:only-of-type {\n        vertical-align: middle;\n    }\n\n    .dataframe tbody tr th {\n        vertical-align: top;\n    }\n\n    .dataframe thead th {\n        text-align: right;\n    }\n</style>\n<table border=\"1\" class=\"dataframe\">\n  <thead>\n    <tr style=\"text-align: right;\">\n      <th></th>\n      <th>year</th>\n      <th>duration</th>\n      <th>country</th>\n      <th>director</th>\n      <th>writer</th>\n      <th>production_company</th>\n      <th>avg_vote</th>\n      <th>votes</th>\n      <th>mean_vote</th>\n      <th>median_vote</th>\n    </tr>\n  </thead>\n  <tbody>\n    <tr>\n      <th>946</th>\n      <td>1930</td>\n      <td>79</td>\n      <td>0</td>\n      <td>80</td>\n      <td>179</td>\n      <td>96</td>\n      <td>6.0</td>\n      <td>138</td>\n      <td>6.0</td>\n      <td>6.0</td>\n    </tr>\n    <tr>\n      <th>84850</th>\n      <td>2019</td>\n      <td>127</td>\n      <td>19</td>\n      <td>28853</td>\n      <td>14137</td>\n      <td>30495</td>\n      <td>8.5</td>\n      <td>430</td>\n      <td>8.1</td>\n      <td>10.0</td>\n    </tr>\n    <tr>\n      <th>34241</th>\n      <td>1999</td>\n      <td>95</td>\n      <td>0</td>\n      <td>4667</td>\n      <td>15020</td>\n      <td>10241</td>\n      <td>4.1</td>\n      <td>682</td>\n      <td>4.1</td>\n      <td>3.0</td>\n    </tr>\n    <tr>\n      <th>28274</th>\n      <td>1994</td>\n      <td>106</td>\n      <td>4</td>\n      <td>2207</td>\n      <td>12084</td>\n      <td>7089</td>\n      <td>6.6</td>\n      <td>196</td>\n      <td>6.4</td>\n      <td>7.0</td>\n    </tr>\n    <tr>\n      <th>23254</th>\n      <td>1987</td>\n      <td>113</td>\n      <td>11</td>\n      <td>2031</td>\n      <td>6346</td>\n      <td>181</td>\n      <td>7.3</td>\n      <td>12196</td>\n      <td>7.4</td>\n      <td>8.0</td>\n    </tr>\n  </tbody>\n</table>\n</div>"
     },
     "execution_count": 52,
     "metadata": {},
     "output_type": "execute_result"
    }
   ],
   "source": [
    "test_genres = x_test['genre']\n",
    "del x_test['genre']\n",
    "x_test.head()"
   ],
   "metadata": {
    "collapsed": false,
    "pycharm": {
     "name": "#%%\n"
    }
   }
  },
  {
   "cell_type": "markdown",
   "source": [
    "### Categorical Naive Bayes"
   ],
   "metadata": {
    "collapsed": false,
    "pycharm": {
     "name": "#%% md\n"
    }
   }
  },
  {
   "cell_type": "code",
   "execution_count": 53,
   "outputs": [
    {
     "data": {
      "text/plain": "CategoricalNB()"
     },
     "execution_count": 53,
     "metadata": {},
     "output_type": "execute_result"
    }
   ],
   "source": [
    "from sklearn.naive_bayes import CategoricalNB\n",
    "clf = CategoricalNB()\n",
    "clf.fit(x_train, train_genres.array)"
   ],
   "metadata": {
    "collapsed": false,
    "pycharm": {
     "name": "#%%\n"
    }
   }
  },
  {
   "cell_type": "code",
   "execution_count": 54,
   "outputs": [
    {
     "name": "stdout",
     "output_type": "stream",
     "text": [
      "Score: 0.46299066384690774\n"
     ]
    }
   ],
   "source": [
    "cat_nb_test = x_test\n",
    "cat_nb_score = clf.score(cat_nb_test, test_genres)\n",
    "print(f'Score: {cat_nb_score}')"
   ],
   "metadata": {
    "collapsed": false,
    "pycharm": {
     "name": "#%%\n"
    }
   }
  },
  {
   "cell_type": "markdown",
   "source": [
    "Using Categorical Naive Bayes was able to get 46% accuracy. Let's try some other algorithms to see if I can get better results."
   ],
   "metadata": {
    "collapsed": false,
    "pycharm": {
     "name": "#%% md\n"
    }
   }
  },
  {
   "cell_type": "markdown",
   "source": [
    "### Linear Support Vector Classification"
   ],
   "metadata": {
    "collapsed": false
   }
  },
  {
   "cell_type": "code",
   "execution_count": 55,
   "outputs": [],
   "source": [
    "from sklearn.svm import LinearSVC\n",
    "from sklearn.pipeline import make_pipeline\n",
    "from sklearn.preprocessing import StandardScaler\n"
   ],
   "metadata": {
    "collapsed": false,
    "pycharm": {
     "name": "#%%\n"
    }
   }
  },
  {
   "cell_type": "code",
   "execution_count": 56,
   "outputs": [
    {
     "name": "stdout",
     "output_type": "stream",
     "text": [
      "Score: 0.3532779697735596\n"
     ]
    },
    {
     "name": "stderr",
     "output_type": "stream",
     "text": [
      "/Users/thomas/.virtualenvs/notebook/lib/python3.9/site-packages/sklearn/svm/_base.py:985: ConvergenceWarning: Liblinear failed to converge, increase the number of iterations.\n",
      "  warnings.warn(\"Liblinear failed to converge, increase \"\n"
     ]
    }
   ],
   "source": [
    "clf = make_pipeline(StandardScaler(), LinearSVC(random_state=0))\n",
    "clf.fit(x_train, train_genres)\n",
    "svc_score = clf.score(x_test, test_genres)\n",
    "print(f'Score: {svc_score}')"
   ],
   "metadata": {
    "collapsed": false,
    "pycharm": {
     "name": "#%%\n"
    }
   }
  },
  {
   "cell_type": "markdown",
   "source": [
    "Using an SVC was preliminarily able to achieve just 35% on the score."
   ],
   "metadata": {
    "collapsed": false,
    "pycharm": {
     "name": "#%% md\n"
    }
   }
  },
  {
   "cell_type": "markdown",
   "source": [
    "### Random Forest Classifier"
   ],
   "metadata": {
    "collapsed": false,
    "pycharm": {
     "name": "#%% md\n"
    }
   }
  },
  {
   "cell_type": "code",
   "execution_count": 57,
   "outputs": [
    {
     "name": "stdout",
     "output_type": "stream",
     "text": [
      "Score: 0.42714189921081136\n"
     ]
    }
   ],
   "source": [
    "from sklearn.ensemble import RandomForestClassifier\n",
    "\n",
    "clf = RandomForestClassifier(max_depth=17, random_state=0)\n",
    "clf.fit(x_train, train_genres)\n",
    "rf_score = clf.score(x_test, test_genres)\n",
    "print(f'Score: {rf_score}')"
   ],
   "metadata": {
    "collapsed": false,
    "pycharm": {
     "name": "#%%\n"
    }
   }
  },
  {
   "cell_type": "markdown",
   "source": [
    "Using a random forest classifier was able to achieve 42% accuracy."
   ],
   "metadata": {
    "collapsed": false
   }
  },
  {
   "cell_type": "markdown",
   "source": [
    "### Logistic Regression"
   ],
   "metadata": {
    "collapsed": false
   }
  },
  {
   "cell_type": "code",
   "execution_count": 58,
   "outputs": [
    {
     "name": "stdout",
     "output_type": "stream",
     "text": [
      "Score: 0.30128436581214213\n"
     ]
    },
    {
     "name": "stderr",
     "output_type": "stream",
     "text": [
      "/Users/thomas/.virtualenvs/notebook/lib/python3.9/site-packages/sklearn/linear_model/_logistic.py:763: ConvergenceWarning: lbfgs failed to converge (status=1):\n",
      "STOP: TOTAL NO. of ITERATIONS REACHED LIMIT.\n",
      "\n",
      "Increase the number of iterations (max_iter) or scale the data as shown in:\n",
      "    https://scikit-learn.org/stable/modules/preprocessing.html\n",
      "Please also refer to the documentation for alternative solver options:\n",
      "    https://scikit-learn.org/stable/modules/linear_model.html#logistic-regression\n",
      "  n_iter_i = _check_optimize_result(\n"
     ]
    }
   ],
   "source": [
    "from sklearn.linear_model import LogisticRegression\n",
    "\n",
    "clf = LogisticRegression(random_state=0).fit(x_train, train_genres)\n",
    "lr_score = clf.score(x_test, test_genres)\n",
    "print(f'Score: {lr_score}')"
   ],
   "metadata": {
    "collapsed": false,
    "pycharm": {
     "name": "#%%\n"
    }
   }
  },
  {
   "cell_type": "markdown",
   "source": [
    "Using a logistic regression algorithm was able to achieve 31% accuracy but didn't reach convergence."
   ],
   "metadata": {
    "collapsed": false
   }
  },
  {
   "cell_type": "markdown",
   "source": [
    "## Analysis"
   ],
   "metadata": {
    "collapsed": false,
    "pycharm": {
     "name": "#%% md\n"
    }
   }
  },
  {
   "cell_type": "code",
   "execution_count": 59,
   "outputs": [
    {
     "data": {
      "text/plain": "                              Algorithm     Score\n0               Categorical Naive Bayes  0.462991\n1  Linear Support Vector Classification  0.353278\n2              Random Forest Classifier  0.427142\n3                   Logistic Regression  0.301284",
      "text/html": "<div>\n<style scoped>\n    .dataframe tbody tr th:only-of-type {\n        vertical-align: middle;\n    }\n\n    .dataframe tbody tr th {\n        vertical-align: top;\n    }\n\n    .dataframe thead th {\n        text-align: right;\n    }\n</style>\n<table border=\"1\" class=\"dataframe\">\n  <thead>\n    <tr style=\"text-align: right;\">\n      <th></th>\n      <th>Algorithm</th>\n      <th>Score</th>\n    </tr>\n  </thead>\n  <tbody>\n    <tr>\n      <th>0</th>\n      <td>Categorical Naive Bayes</td>\n      <td>0.462991</td>\n    </tr>\n    <tr>\n      <th>1</th>\n      <td>Linear Support Vector Classification</td>\n      <td>0.353278</td>\n    </tr>\n    <tr>\n      <th>2</th>\n      <td>Random Forest Classifier</td>\n      <td>0.427142</td>\n    </tr>\n    <tr>\n      <th>3</th>\n      <td>Logistic Regression</td>\n      <td>0.301284</td>\n    </tr>\n  </tbody>\n</table>\n</div>"
     },
     "execution_count": 59,
     "metadata": {},
     "output_type": "execute_result"
    }
   ],
   "source": [
    "# Combining scores into df\n",
    "scores = {\n",
    "    'Algorithm': ['Categorical Naive Bayes', 'Linear Support Vector Classification', 'Random Forest Classifier', 'Logistic Regression'],\n",
    "    'Score': [cat_nb_score, svc_score, rf_score, lr_score],\n",
    "}\n",
    "df_scores = pd.DataFrame(data=scores, columns=['Algorithm', 'Score'])\n",
    "df_scores.head()"
   ],
   "metadata": {
    "collapsed": false,
    "pycharm": {
     "name": "#%%\n"
    }
   }
  },
  {
   "cell_type": "code",
   "execution_count": 60,
   "outputs": [
    {
     "data": {
      "text/plain": "<Figure size 432x288 with 1 Axes>",
      "image/png": "[encoded data removed]"
     },
     "metadata": {},
     "output_type": "display_data"
    }
   ],
   "source": [
    "sea.barplot(y='Algorithm', x='Score', data=df_scores)\n",
    "plt.savefig('images/scores_bar.png')"
   ],
   "metadata": {
    "collapsed": false,
    "pycharm": {
     "name": "#%%\n"
    }
   }
  },
  {
   "cell_type": "markdown",
   "source": [
    "As you can see from the above chart, Categorical Naive Bayes was able to achieve the best results. This was what I expected after\n",
    "trying to work with the data to help the Logistic Regression algorithm converge.\n",
    "\n",
    "Overall this has been a really fun and interesting project to work on. It was fun getting to read and experiment with different algorithms\n",
    "along the way.\n"
   ],
   "metadata": {
    "collapsed": false,
    "pycharm": {
     "name": "#%% md\n"
    }
   }
  }
 ],
 "metadata": {
  "kernelspec": {
   "display_name": "Python 3",
   "language": "python",
   "name": "python3"
  },
  "language_info": {
   "codemirror_mode": {
    "name": "ipython",
    "version": 3
   },
   "file_extension": ".py",
   "mimetype": "text/x-python",
   "name": "python",
   "nbconvert_exporter": "python",
   "pygments_lexer": "ipython3",
   "version": "3.9.2"
  }
 },
 "nbformat": 4,
 "nbformat_minor": 1
}