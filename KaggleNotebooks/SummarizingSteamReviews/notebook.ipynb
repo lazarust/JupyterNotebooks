{
 "cells": [
  {
   "cell_type": "markdown",
   "id": "9884e6ea",
   "metadata": {
    "papermill": {
     "duration": 0.021611,
     "end_time": "2021-12-29T01:21:02.734418",
     "exception": false,
     "start_time": "2021-12-29T01:21:02.712807",
     "status": "completed"
    },
    "tags": []
   },
   "source": [
    "# Summarizing Steam Reviews"
   ]
  },
  {
   "cell_type": "markdown",
   "id": "7778633f",
   "metadata": {
    "papermill": {
     "duration": 0.018583,
     "end_time": "2021-12-29T01:21:02.771988",
     "exception": false,
     "start_time": "2021-12-29T01:21:02.753405",
     "status": "completed"
    },
    "tags": []
   },
   "source": [
    "## Pulling in the Data"
   ]
  },
  {
   "cell_type": "code",
   "execution_count": 1,
   "id": "452161ec",
   "metadata": {
    "execution": {
     "iopub.execute_input": "2021-12-29T01:21:02.815227Z",
     "iopub.status.busy": "2021-12-29T01:21:02.814459Z",
     "iopub.status.idle": "2021-12-29T01:21:46.984245Z",
     "shell.execute_reply": "2021-12-29T01:21:46.983205Z",
     "shell.execute_reply.started": "2021-12-29T01:16:22.944485Z"
    },
    "papermill": {
     "duration": 44.192713,
     "end_time": "2021-12-29T01:21:46.984427",
     "exception": false,
     "start_time": "2021-12-29T01:21:02.791714",
     "status": "completed"
    },
    "tags": []
   },
   "outputs": [],
   "source": [
    "import pandas as pd\n",
    "\n",
    "raw_data = pd.read_csv('/kaggle/input/steam-reviews/dataset.csv')"
   ]
  },
  {
   "cell_type": "markdown",
   "id": "f953b17a",
   "metadata": {
    "papermill": {
     "duration": 0.012689,
     "end_time": "2021-12-29T01:21:47.009586",
     "exception": false,
     "start_time": "2021-12-29T01:21:46.996897",
     "status": "completed"
    },
    "tags": []
   },
   "source": [
    "Since I'm just going to be summarizing the review text the extra columns are unnecessary."
   ]
  },
  {
   "cell_type": "code",
   "execution_count": 2,
   "id": "6a242933",
   "metadata": {
    "execution": {
     "iopub.execute_input": "2021-12-29T01:21:47.307063Z",
     "iopub.status.busy": "2021-12-29T01:21:47.306311Z",
     "iopub.status.idle": "2021-12-29T01:21:47.309486Z",
     "shell.execute_reply": "2021-12-29T01:21:47.308704Z",
     "shell.execute_reply.started": "2021-12-29T01:17:02.034627Z"
    },
    "papermill": {
     "duration": 0.287536,
     "end_time": "2021-12-29T01:21:47.309621",
     "exception": false,
     "start_time": "2021-12-29T01:21:47.022085",
     "status": "completed"
    },
    "tags": []
   },
   "outputs": [],
   "source": [
    "raw_data.drop(columns=['review_votes', 'review_score', 'app_id'], inplace=True, errors='ignore')"
   ]
  },
  {
   "cell_type": "code",
   "execution_count": 3,
   "id": "4a3b05b9",
   "metadata": {
    "execution": {
     "iopub.execute_input": "2021-12-29T01:21:47.340385Z",
     "iopub.status.busy": "2021-12-29T01:21:47.339572Z",
     "iopub.status.idle": "2021-12-29T01:21:47.349523Z",
     "shell.execute_reply": "2021-12-29T01:21:47.349953Z",
     "shell.execute_reply.started": "2021-12-29T01:17:02.308211Z"
    },
    "papermill": {
     "duration": 0.028016,
     "end_time": "2021-12-29T01:21:47.350085",
     "exception": false,
     "start_time": "2021-12-29T01:21:47.322069",
     "status": "completed"
    },
    "tags": []
   },
   "outputs": [
    {
     "data": {
      "text/html": [
       "<div>\n",
       "<style scoped>\n",
       "    .dataframe tbody tr th:only-of-type {\n",
       "        vertical-align: middle;\n",
       "    }\n",
       "\n",
       "    .dataframe tbody tr th {\n",
       "        vertical-align: top;\n",
       "    }\n",
       "\n",
       "    .dataframe thead th {\n",
       "        text-align: right;\n",
       "    }\n",
       "</style>\n",
       "<table border=\"1\" class=\"dataframe\">\n",
       "  <thead>\n",
       "    <tr style=\"text-align: right;\">\n",
       "      <th></th>\n",
       "      <th>app_name</th>\n",
       "      <th>review_text</th>\n",
       "    </tr>\n",
       "  </thead>\n",
       "  <tbody>\n",
       "    <tr>\n",
       "      <th>0</th>\n",
       "      <td>Counter-Strike</td>\n",
       "      <td>Ruined my life.</td>\n",
       "    </tr>\n",
       "    <tr>\n",
       "      <th>1</th>\n",
       "      <td>Counter-Strike</td>\n",
       "      <td>This will be more of a ''my experience with th...</td>\n",
       "    </tr>\n",
       "    <tr>\n",
       "      <th>2</th>\n",
       "      <td>Counter-Strike</td>\n",
       "      <td>This game saved my virginity.</td>\n",
       "    </tr>\n",
       "    <tr>\n",
       "      <th>3</th>\n",
       "      <td>Counter-Strike</td>\n",
       "      <td>• Do you like original games? • Do you like ga...</td>\n",
       "    </tr>\n",
       "    <tr>\n",
       "      <th>4</th>\n",
       "      <td>Counter-Strike</td>\n",
       "      <td>Easy to learn, hard to master.</td>\n",
       "    </tr>\n",
       "  </tbody>\n",
       "</table>\n",
       "</div>"
      ],
      "text/plain": [
       "         app_name                                        review_text\n",
       "0  Counter-Strike                                    Ruined my life.\n",
       "1  Counter-Strike  This will be more of a ''my experience with th...\n",
       "2  Counter-Strike                      This game saved my virginity.\n",
       "3  Counter-Strike  • Do you like original games? • Do you like ga...\n",
       "4  Counter-Strike           Easy to learn, hard to master.          "
      ]
     },
     "execution_count": 3,
     "metadata": {},
     "output_type": "execute_result"
    }
   ],
   "source": [
    "raw_data.head(5)"
   ]
  },
  {
   "cell_type": "code",
   "execution_count": 4,
   "id": "19aded2f",
   "metadata": {
    "execution": {
     "iopub.execute_input": "2021-12-29T01:21:48.854585Z",
     "iopub.status.busy": "2021-12-29T01:21:48.853023Z",
     "iopub.status.idle": "2021-12-29T01:21:49.250976Z",
     "shell.execute_reply": "2021-12-29T01:21:49.250469Z",
     "shell.execute_reply.started": "2021-12-29T01:17:02.320305Z"
    },
    "papermill": {
     "duration": 1.88846,
     "end_time": "2021-12-29T01:21:49.251121",
     "exception": false,
     "start_time": "2021-12-29T01:21:47.362661",
     "status": "completed"
    },
    "tags": []
   },
   "outputs": [],
   "source": [
    "raw_data.dropna(axis='index', inplace=True)"
   ]
  },
  {
   "cell_type": "markdown",
   "id": "224b99fb",
   "metadata": {
    "papermill": {
     "duration": 0.011873,
     "end_time": "2021-12-29T01:21:49.275412",
     "exception": false,
     "start_time": "2021-12-29T01:21:49.263539",
     "status": "completed"
    },
    "tags": []
   },
   "source": [
    "### Cleaning the Data\n",
    "\n",
    "Some of the inputs had lots of messy text so I'm going to try and clean out the gross text."
   ]
  },
  {
   "cell_type": "code",
   "execution_count": 5,
   "id": "25534944",
   "metadata": {
    "execution": {
     "iopub.execute_input": "2021-12-29T01:21:49.467947Z",
     "iopub.status.busy": "2021-12-29T01:21:49.440120Z",
     "iopub.status.idle": "2021-12-29T01:22:14.846086Z",
     "shell.execute_reply": "2021-12-29T01:22:14.845555Z",
     "shell.execute_reply.started": "2021-12-29T01:17:03.978351Z"
    },
    "papermill": {
     "duration": 25.558342,
     "end_time": "2021-12-29T01:22:14.846233",
     "exception": false,
     "start_time": "2021-12-29T01:21:49.287891",
     "status": "completed"
    },
    "tags": []
   },
   "outputs": [],
   "source": [
    "import re\n",
    "import numpy as np\n",
    "def clean_text(text):\n",
    "    return re.sub('&.*;', '', re.sub('/.*', '', text))\n",
    "\n",
    "raw_data['review_text'] = raw_data['review_text'].apply(clean_text)\n",
    "raw_data['review_text'].replace('', np.nan, inplace=True)\n",
    "raw_data.dropna(subset=['review_text'], inplace=True)\n",
    "raw_data = raw_data.loc[raw_data['review_text'].str.len() >= 50]"
   ]
  },
  {
   "cell_type": "code",
   "execution_count": 6,
   "id": "012020aa",
   "metadata": {
    "execution": {
     "iopub.execute_input": "2021-12-29T01:22:15.447853Z",
     "iopub.status.busy": "2021-12-29T01:22:15.446148Z",
     "iopub.status.idle": "2021-12-29T01:22:29.781011Z",
     "shell.execute_reply": "2021-12-29T01:22:29.781476Z",
     "shell.execute_reply.started": "2021-12-29T01:17:29.398955Z"
    },
    "papermill": {
     "duration": 14.921836,
     "end_time": "2021-12-29T01:22:29.781646",
     "exception": false,
     "start_time": "2021-12-29T01:22:14.859810",
     "status": "completed"
    },
    "tags": []
   },
   "outputs": [],
   "source": [
    "reorder_raw_data = raw_data.review_text.str.len().sort_values(ascending=True).index\n",
    "raw_data = raw_data.reindex(reorder_raw_data)\n",
    "raw_data.drop_duplicates(inplace=True)"
   ]
  },
  {
   "cell_type": "code",
   "execution_count": 7,
   "id": "e4995687",
   "metadata": {
    "execution": {
     "iopub.execute_input": "2021-12-29T01:22:29.811660Z",
     "iopub.status.busy": "2021-12-29T01:22:29.810936Z",
     "iopub.status.idle": "2021-12-29T01:22:31.841014Z",
     "shell.execute_reply": "2021-12-29T01:22:31.840397Z",
     "shell.execute_reply.started": "2021-12-29T01:17:44.523912Z"
    },
    "papermill": {
     "duration": 2.046927,
     "end_time": "2021-12-29T01:22:31.841153",
     "exception": false,
     "start_time": "2021-12-29T01:22:29.794226",
     "status": "completed"
    },
    "tags": []
   },
   "outputs": [],
   "source": [
    "from datasets import Dataset\n",
    "# Filter only the longest 1,000 reviews to summarize\n",
    "data_df = Dataset.from_pandas(raw_data[1000:1050])"
   ]
  },
  {
   "cell_type": "code",
   "execution_count": 8,
   "id": "264ae4a2",
   "metadata": {
    "execution": {
     "iopub.execute_input": "2021-12-29T01:22:32.168639Z",
     "iopub.status.busy": "2021-12-29T01:22:32.168057Z",
     "iopub.status.idle": "2021-12-29T01:22:32.177593Z",
     "shell.execute_reply": "2021-12-29T01:22:32.177046Z",
     "shell.execute_reply.started": "2021-12-29T01:17:44.714999Z"
    },
    "papermill": {
     "duration": 0.323713,
     "end_time": "2021-12-29T01:22:32.177725",
     "exception": false,
     "start_time": "2021-12-29T01:22:31.854012",
     "status": "completed"
    },
    "tags": []
   },
   "outputs": [
    {
     "data": {
      "text/plain": [
       "51"
      ]
     },
     "execution_count": 8,
     "metadata": {},
     "output_type": "execute_result"
    }
   ],
   "source": [
    "import gc\n",
    "del raw_data\n",
    "gc.collect()"
   ]
  },
  {
   "cell_type": "markdown",
   "id": "fcacccc3",
   "metadata": {
    "papermill": {
     "duration": 0.01326,
     "end_time": "2021-12-29T01:22:32.204168",
     "exception": false,
     "start_time": "2021-12-29T01:22:32.190908",
     "status": "completed"
    },
    "tags": []
   },
   "source": [
    "## Model Time"
   ]
  },
  {
   "cell_type": "code",
   "execution_count": 9,
   "id": "005f506d",
   "metadata": {
    "execution": {
     "iopub.execute_input": "2021-12-29T01:22:32.255038Z",
     "iopub.status.busy": "2021-12-29T01:22:32.254368Z",
     "iopub.status.idle": "2021-12-29T01:22:52.859497Z",
     "shell.execute_reply": "2021-12-29T01:22:52.858998Z",
     "shell.execute_reply.started": "2021-12-29T01:17:45.105814Z"
    },
    "papermill": {
     "duration": 20.642266,
     "end_time": "2021-12-29T01:22:52.859647",
     "exception": false,
     "start_time": "2021-12-29T01:22:32.217381",
     "status": "completed"
    },
    "tags": []
   },
   "outputs": [
    {
     "data": {
      "application/vnd.jupyter.widget-view+json": {
       "model_id": "aadb365f03e5473e8ce4f795c7595b2b",
       "version_major": 2,
       "version_minor": 0
      },
      "text/plain": [
       "Downloading:   0%|          | 0.00/1.17k [00:00<?, ?B/s]"
      ]
     },
     "metadata": {},
     "output_type": "display_data"
    },
    {
     "data": {
      "application/vnd.jupyter.widget-view+json": {
       "model_id": "284da5f7e90b42849e445c1547d7e3e2",
       "version_major": 2,
       "version_minor": 0
      },
      "text/plain": [
       "Downloading:   0%|          | 0.00/231M [00:00<?, ?B/s]"
      ]
     },
     "metadata": {},
     "output_type": "display_data"
    },
    {
     "data": {
      "application/vnd.jupyter.widget-view+json": {
       "model_id": "757882824548429ebd401b6877d57b6d",
       "version_major": 2,
       "version_minor": 0
      },
      "text/plain": [
       "Downloading:   0%|          | 0.00/773k [00:00<?, ?B/s]"
      ]
     },
     "metadata": {},
     "output_type": "display_data"
    },
    {
     "data": {
      "application/vnd.jupyter.widget-view+json": {
       "model_id": "86b36ae9060e4d7e9813036678f91261",
       "version_major": 2,
       "version_minor": 0
      },
      "text/plain": [
       "Downloading:   0%|          | 0.00/1.32M [00:00<?, ?B/s]"
      ]
     },
     "metadata": {},
     "output_type": "display_data"
    }
   ],
   "source": [
    "from transformers import T5ForConditionalGeneration, T5TokenizerFast\n",
    "\n",
    "checkpoint = \"t5-small\"\n",
    "model = T5ForConditionalGeneration.from_pretrained(checkpoint).to('cuda')\n",
    "tokenizer = T5TokenizerFast.from_pretrained(checkpoint)"
   ]
  },
  {
   "cell_type": "code",
   "execution_count": 10,
   "id": "8f77ab30",
   "metadata": {
    "execution": {
     "iopub.execute_input": "2021-12-29T01:22:52.896690Z",
     "iopub.status.busy": "2021-12-29T01:22:52.894216Z",
     "iopub.status.idle": "2021-12-29T01:22:52.905769Z",
     "shell.execute_reply": "2021-12-29T01:22:52.904988Z",
     "shell.execute_reply.started": "2021-12-29T01:19:44.241414Z"
    },
    "papermill": {
     "duration": 0.029406,
     "end_time": "2021-12-29T01:22:52.905915",
     "exception": false,
     "start_time": "2021-12-29T01:22:52.876509",
     "status": "completed"
    },
    "tags": []
   },
   "outputs": [],
   "source": [
    "batch = tokenizer(data_df['review_text'], truncation=True, padding=True, return_tensors=\"pt\").to('cuda')"
   ]
  },
  {
   "cell_type": "code",
   "execution_count": 11,
   "id": "656256ba",
   "metadata": {
    "execution": {
     "iopub.execute_input": "2021-12-29T01:22:52.939313Z",
     "iopub.status.busy": "2021-12-29T01:22:52.938659Z",
     "iopub.status.idle": "2021-12-29T01:22:53.975788Z",
     "shell.execute_reply": "2021-12-29T01:22:53.974952Z",
     "shell.execute_reply.started": "2021-12-29T01:19:44.269710Z"
    },
    "papermill": {
     "duration": 1.055597,
     "end_time": "2021-12-29T01:22:53.975954",
     "exception": false,
     "start_time": "2021-12-29T01:22:52.920357",
     "status": "completed"
    },
    "tags": []
   },
   "outputs": [],
   "source": [
    "translated = model.generate(**batch)"
   ]
  },
  {
   "cell_type": "code",
   "execution_count": 12,
   "id": "6011d201",
   "metadata": {
    "execution": {
     "iopub.execute_input": "2021-12-29T01:22:54.010684Z",
     "iopub.status.busy": "2021-12-29T01:22:54.009788Z",
     "iopub.status.idle": "2021-12-29T01:22:54.014625Z",
     "shell.execute_reply": "2021-12-29T01:22:54.014197Z",
     "shell.execute_reply.started": "2021-12-29T01:19:51.193069Z"
    },
    "papermill": {
     "duration": 0.024105,
     "end_time": "2021-12-29T01:22:54.014742",
     "exception": false,
     "start_time": "2021-12-29T01:22:53.990637",
     "status": "completed"
    },
    "tags": []
   },
   "outputs": [],
   "source": [
    "tgt_text = tokenizer.batch_decode(translated, skip_special_tokens=True)\n",
    "# data_df['summarized'] = tgt_text"
   ]
  },
  {
   "cell_type": "code",
   "execution_count": 13,
   "id": "e6505e68",
   "metadata": {
    "execution": {
     "iopub.execute_input": "2021-12-29T01:22:54.048531Z",
     "iopub.status.busy": "2021-12-29T01:22:54.047587Z",
     "iopub.status.idle": "2021-12-29T01:22:54.051580Z",
     "shell.execute_reply": "2021-12-29T01:22:54.052426Z",
     "shell.execute_reply.started": "2021-12-29T01:20:21.666700Z"
    },
    "papermill": {
     "duration": 0.023469,
     "end_time": "2021-12-29T01:22:54.052566",
     "exception": false,
     "start_time": "2021-12-29T01:22:54.029097",
     "status": "completed"
    },
    "tags": []
   },
   "outputs": [
    {
     "data": {
      "text/plain": [
       "['ok its hard as so you no its a good game 4',\n",
       " '         ',\n",
       " '!',\n",
       " 'Haben Sie 200-400 Stunden zu spare? Kaufen Sie dieses Spiel.',\n",
       " 'Das ist das schlimmste, was sich mit der Menschheit ereignet hat.',\n",
       " 'are looking for DOOM but with zombies?',\n",
       " 'Wahrscheinlich das best game in the entire NFS franchise.',\n",
       " 'Best Game ever defeated it in 12 hours in pasifest in 12 hours in pasifest',\n",
       " 'Dieses Spiel zeigt, wie gut Nvdia gegenüber AMD ist.',\n",
       " 'Dark Souls II ist noch schwerer als Dark Souls und Dark Souls II kombiniert.',\n",
       " 'game and has a great storyline.',\n",
       " '- a game.',\n",
       " 'game, just needs a new game plus.',\n",
       " 'Brilliant story, excellent gameplay, great puzzles.',\n",
       " 'Portals.',\n",
       " 'Play as the most  off guy not on this planet',\n",
       " '',\n",
       " 'Eines der besten Spiele, die Spaß und Spaß ist.',\n",
       " 'Epic game, sowohl für Singleplayer als auch für Multiplayer.',\n",
       " 'hnliches Gefühl wie Rainbow Six, es ist sehr einfach zu m',\n",
       " 'Werden Sie fertig fertig fertig fertig fertig fertig fertig fertig',\n",
       " '!',\n",
       " 'i say. This is a Facebook Facebook page.',\n",
       " \"i'm not racist some of my best friends are ghouls g\",\n",
       " 'Ich liebe allah akbar in t4 mit my mohawk on KoTH.',\n",
       " '         ',\n",
       " ':D',\n",
       " '!',\n",
       " 'Abend Abend Abend Abend Abend Abend Abend Abend Abend Abend Abend Abend Abend Abend Abend Abend Abend Abend Abend',\n",
       " \"I can't play, so I guess the game sucks?\",\n",
       " 'Steam account wont link with the gaming account...',\n",
       " ' YOU! That being said.. great game. Nuff said.',\n",
       " 'Wenn Sie eine Herausforderung werfen, dann ist das das Spiel für Sie!',\n",
       " 'Das unglaubliche Spiel...auch wenn man etwas stirbt!',\n",
       " 'Das Best Spiel 2016 2016 ist das beste Spiel 2016!',\n",
       " 'This game makes death a form of crowd control-- 10',\n",
       " 'I was a little saf, but I was a little sa',\n",
       " 'this game. Get mad.',\n",
       " \"- Definitely one of the best RPG's I've ever played.\",\n",
       " '+Fun combat, good story. -low variety in combat 7',\n",
       " 'minotaur boss minotaur boss jumped from walls to his death... 10',\n",
       " 'Nun, ich habe das für die achis, aber man,  das.',\n",
       " 'hammers hammers lots of watching pretty good',\n",
       " \"'s great; it'd be good if i could understand it.\",\n",
       " 'Die Kampagne startet, der Multiplayer suckt.',\n",
       " \"A steal at the SUmmer Sale Price, don't pass it up, don\",\n",
       " 'Die Arbeit der Herren hat sich niemals so zufrieden gestellt.',\n",
       " 'sharks blood and human body sharks win always ( °  ',\n",
       " '...!!!!!!!!!!!!!!!!!!!!!!!!!!!!!!!!!!!!!!!!!!!!!!!!!!!!!!!!!!!!!!!!!!!!!!!!!!!!!!!!!!!!!',\n",
       " 'Incredibly fun game and a nice twist on FPS games.']"
      ]
     },
     "execution_count": 13,
     "metadata": {},
     "output_type": "execute_result"
    }
   ],
   "source": [
    "tgt_text"
   ]
  },
  {
   "cell_type": "code",
   "execution_count": null,
   "id": "dbdad3b6",
   "metadata": {
    "papermill": {
     "duration": 0.014404,
     "end_time": "2021-12-29T01:22:54.081928",
     "exception": false,
     "start_time": "2021-12-29T01:22:54.067524",
     "status": "completed"
    },
    "tags": []
   },
   "outputs": [],
   "source": []
  }
 ],
 "metadata": {
  "kernelspec": {
   "display_name": "Python 3",
   "language": "python",
   "name": "python3"
  },
  "language_info": {
   "codemirror_mode": {
    "name": "ipython",
    "version": 3
   },
   "file_extension": ".py",
   "mimetype": "text/x-python",
   "name": "python",
   "nbconvert_exporter": "python",
   "pygments_lexer": "ipython3",
   "version": "3.7.12"
  },
  "papermill": {
   "default_parameters": {},
   "duration": 122.293049,
   "end_time": "2021-12-29T01:22:56.991783",
   "environment_variables": {},
   "exception": null,
   "input_path": "__notebook__.ipynb",
   "output_path": "__notebook__.ipynb",
   "parameters": {},
   "start_time": "2021-12-29T01:20:54.698734",
   "version": "2.3.3"
  },
  "widgets": {
   "application/vnd.jupyter.widget-state+json": {
    "state": {
     "06420c5247584a21a8d69a14775f67d7": {
      "model_module": "@jupyter-widgets/controls",
      "model_module_version": "1.5.0",
      "model_name": "DescriptionStyleModel",
      "state": {
       "_model_module": "@jupyter-widgets/controls",
       "_model_module_version": "1.5.0",
       "_model_name": "DescriptionStyleModel",
       "_view_count": null,
       "_view_module": "@jupyter-widgets/base",
       "_view_module_version": "1.2.0",
       "_view_name": "StyleView",
       "description_width": ""
      }
     },
     "1375805aa31a4b09b7a8ed26c267b12e": {
      "model_module": "@jupyter-widgets/base",
      "model_module_version": "1.2.0",
      "model_name": "LayoutModel",
      "state": {
       "_model_module": "@jupyter-widgets/base",
       "_model_module_version": "1.2.0",
       "_model_name": "LayoutModel",
       "_view_count": null,
       "_view_module": "@jupyter-widgets/base",
       "_view_module_version": "1.2.0",
       "_view_name": "LayoutView",
       "align_content": null,
       "align_items": null,
       "align_self": null,
       "border": null,
       "bottom": null,
       "display": null,
       "flex": null,
       "flex_flow": null,
       "grid_area": null,
       "grid_auto_columns": null,
       "grid_auto_flow": null,
       "grid_auto_rows": null,
       "grid_column": null,
       "grid_gap": null,
       "grid_row": null,
       "grid_template_areas": null,
       "grid_template_columns": null,
       "grid_template_rows": null,
       "height": null,
       "justify_content": null,
       "justify_items": null,
       "left": null,
       "margin": null,
       "max_height": null,
       "max_width": null,
       "min_height": null,
       "min_width": null,
       "object_fit": null,
       "object_position": null,
       "order": null,
       "overflow": null,
       "overflow_x": null,
       "overflow_y": null,
       "padding": null,
       "right": null,
       "top": null,
       "visibility": null,
       "width": null
      }
     },
     "194f2adcc1644dcb91d5f48571acf51a": {
      "model_module": "@jupyter-widgets/controls",
      "model_module_version": "1.5.0",
      "model_name": "DescriptionStyleModel",
      "state": {
       "_model_module": "@jupyter-widgets/controls",
       "_model_module_version": "1.5.0",
       "_model_name": "DescriptionStyleModel",
       "_view_count": null,
       "_view_module": "@jupyter-widgets/base",
       "_view_module_version": "1.2.0",
       "_view_name": "StyleView",
       "description_width": ""
      }
     },
     "220e6a356e48486a85e908eeb5a7d895": {
      "model_module": "@jupyter-widgets/base",
      "model_module_version": "1.2.0",
      "model_name": "LayoutModel",
      "state": {
       "_model_module": "@jupyter-widgets/base",
       "_model_module_version": "1.2.0",
       "_model_name": "LayoutModel",
       "_view_count": null,
       "_view_module": "@jupyter-widgets/base",
       "_view_module_version": "1.2.0",
       "_view_name": "LayoutView",
       "align_content": null,
       "align_items": null,
       "align_self": null,
       "border": null,
       "bottom": null,
       "display": null,
       "flex": null,
       "flex_flow": null,
       "grid_area": null,
       "grid_auto_columns": null,
       "grid_auto_flow": null,
       "grid_auto_rows": null,
       "grid_column": null,
       "grid_gap": null,
       "grid_row": null,
       "grid_template_areas": null,
       "grid_template_columns": null,
       "grid_template_rows": null,
       "height": null,
       "justify_content": null,
       "justify_items": null,
       "left": null,
       "margin": null,
       "max_height": null,
       "max_width": null,
       "min_height": null,
       "min_width": null,
       "object_fit": null,
       "object_position": null,
       "order": null,
       "overflow": null,
       "overflow_x": null,
       "overflow_y": null,
       "padding": null,
       "right": null,
       "top": null,
       "visibility": null,
       "width": null
      }
     },
     "284da5f7e90b42849e445c1547d7e3e2": {
      "model_module": "@jupyter-widgets/controls",
      "model_module_version": "1.5.0",
      "model_name": "HBoxModel",
      "state": {
       "_dom_classes": [],
       "_model_module": "@jupyter-widgets/controls",
       "_model_module_version": "1.5.0",
       "_model_name": "HBoxModel",
       "_view_count": null,
       "_view_module": "@jupyter-widgets/controls",
       "_view_module_version": "1.5.0",
       "_view_name": "HBoxView",
       "box_style": "",
       "children": [
        "IPY_MODEL_d513821845f844879b6b17f688e67943",
        "IPY_MODEL_e67cfe3b4c1c4d2293f9a6da6ae394a7",
        "IPY_MODEL_86a2541a5c014e8db2a5070404ad5b51"
       ],
       "layout": "IPY_MODEL_d76a7bd219b042348394e4a02fe2197b"
      }
     },
     "2a120950648a44dc89f74e421fe7076c": {
      "model_module": "@jupyter-widgets/controls",
      "model_module_version": "1.5.0",
      "model_name": "HTMLModel",
      "state": {
       "_dom_classes": [],
       "_model_module": "@jupyter-widgets/controls",
       "_model_module_version": "1.5.0",
       "_model_name": "HTMLModel",
       "_view_count": null,
       "_view_module": "@jupyter-widgets/controls",
       "_view_module_version": "1.5.0",
       "_view_name": "HTMLView",
       "description": "",
       "description_tooltip": null,
       "layout": "IPY_MODEL_89f9908a074d4fc58f91f30611c03ce4",
       "placeholder": "​",
       "style": "IPY_MODEL_194f2adcc1644dcb91d5f48571acf51a",
       "value": " 1.17k/1.17k [00:00&lt;00:00, 45.9kB/s]"
      }
     },
     "30712df59e5e4c97abfd467aa043bb4f": {
      "model_module": "@jupyter-widgets/controls",
      "model_module_version": "1.5.0",
      "model_name": "DescriptionStyleModel",
      "state": {
       "_model_module": "@jupyter-widgets/controls",
       "_model_module_version": "1.5.0",
       "_model_name": "DescriptionStyleModel",
       "_view_count": null,
       "_view_module": "@jupyter-widgets/base",
       "_view_module_version": "1.2.0",
       "_view_name": "StyleView",
       "description_width": ""
      }
     },
     "3ea3718f09094e699e63e52aa7437353": {
      "model_module": "@jupyter-widgets/controls",
      "model_module_version": "1.5.0",
      "model_name": "HTMLModel",
      "state": {
       "_dom_classes": [],
       "_model_module": "@jupyter-widgets/controls",
       "_model_module_version": "1.5.0",
       "_model_name": "HTMLModel",
       "_view_count": null,
       "_view_module": "@jupyter-widgets/controls",
       "_view_module_version": "1.5.0",
       "_view_name": "HTMLView",
       "description": "",
       "description_tooltip": null,
       "layout": "IPY_MODEL_af634a3d797b4d298f8454c3f0b6ab20",
       "placeholder": "​",
       "style": "IPY_MODEL_603e230ca0724f8bbe4c9901fbe242f8",
       "value": "Downloading: 100%"
      }
     },
     "5a8bee3b184740039ac82a5e532534a2": {
      "model_module": "@jupyter-widgets/base",
      "model_module_version": "1.2.0",
      "model_name": "LayoutModel",
      "state": {
       "_model_module": "@jupyter-widgets/base",
       "_model_module_version": "1.2.0",
       "_model_name": "LayoutModel",
       "_view_count": null,
       "_view_module": "@jupyter-widgets/base",
       "_view_module_version": "1.2.0",
       "_view_name": "LayoutView",
       "align_content": null,
       "align_items": null,
       "align_self": null,
       "border": null,
       "bottom": null,
       "display": null,
       "flex": null,
       "flex_flow": null,
       "grid_area": null,
       "grid_auto_columns": null,
       "grid_auto_flow": null,
       "grid_auto_rows": null,
       "grid_column": null,
       "grid_gap": null,
       "grid_row": null,
       "grid_template_areas": null,
       "grid_template_columns": null,
       "grid_template_rows": null,
       "height": null,
       "justify_content": null,
       "justify_items": null,
       "left": null,
       "margin": null,
       "max_height": null,
       "max_width": null,
       "min_height": null,
       "min_width": null,
       "object_fit": null,
       "object_position": null,
       "order": null,
       "overflow": null,
       "overflow_x": null,
       "overflow_y": null,
       "padding": null,
       "right": null,
       "top": null,
       "visibility": null,
       "width": null
      }
     },
     "5f88abf68d1d4b9dbcb8ca24138a143b": {
      "model_module": "@jupyter-widgets/controls",
      "model_module_version": "1.5.0",
      "model_name": "DescriptionStyleModel",
      "state": {
       "_model_module": "@jupyter-widgets/controls",
       "_model_module_version": "1.5.0",
       "_model_name": "DescriptionStyleModel",
       "_view_count": null,
       "_view_module": "@jupyter-widgets/base",
       "_view_module_version": "1.2.0",
       "_view_name": "StyleView",
       "description_width": ""
      }
     },
     "603e230ca0724f8bbe4c9901fbe242f8": {
      "model_module": "@jupyter-widgets/controls",
      "model_module_version": "1.5.0",
      "model_name": "DescriptionStyleModel",
      "state": {
       "_model_module": "@jupyter-widgets/controls",
       "_model_module_version": "1.5.0",
       "_model_name": "DescriptionStyleModel",
       "_view_count": null,
       "_view_module": "@jupyter-widgets/base",
       "_view_module_version": "1.2.0",
       "_view_name": "StyleView",
       "description_width": ""
      }
     },
     "61f33311b1874d119021b3cbecb3d90b": {
      "model_module": "@jupyter-widgets/controls",
      "model_module_version": "1.5.0",
      "model_name": "ProgressStyleModel",
      "state": {
       "_model_module": "@jupyter-widgets/controls",
       "_model_module_version": "1.5.0",
       "_model_name": "ProgressStyleModel",
       "_view_count": null,
       "_view_module": "@jupyter-widgets/base",
       "_view_module_version": "1.2.0",
       "_view_name": "StyleView",
       "bar_color": null,
       "description_width": ""
      }
     },
     "656f4bcad5d14d7993e3440bac94a0df": {
      "model_module": "@jupyter-widgets/controls",
      "model_module_version": "1.5.0",
      "model_name": "HTMLModel",
      "state": {
       "_dom_classes": [],
       "_model_module": "@jupyter-widgets/controls",
       "_model_module_version": "1.5.0",
       "_model_name": "HTMLModel",
       "_view_count": null,
       "_view_module": "@jupyter-widgets/controls",
       "_view_module_version": "1.5.0",
       "_view_name": "HTMLView",
       "description": "",
       "description_tooltip": null,
       "layout": "IPY_MODEL_7c080d939706452bb95d08c303299909",
       "placeholder": "​",
       "style": "IPY_MODEL_30712df59e5e4c97abfd467aa043bb4f",
       "value": " 1.32M/1.32M [00:00&lt;00:00, 4.59MB/s]"
      }
     },
     "6c66bc00418d44bfa281b35f11dcbf81": {
      "model_module": "@jupyter-widgets/controls",
      "model_module_version": "1.5.0",
      "model_name": "HTMLModel",
      "state": {
       "_dom_classes": [],
       "_model_module": "@jupyter-widgets/controls",
       "_model_module_version": "1.5.0",
       "_model_name": "HTMLModel",
       "_view_count": null,
       "_view_module": "@jupyter-widgets/controls",
       "_view_module_version": "1.5.0",
       "_view_name": "HTMLView",
       "description": "",
       "description_tooltip": null,
       "layout": "IPY_MODEL_c3722f89670e47408e628dad5ace6213",
       "placeholder": "​",
       "style": "IPY_MODEL_06420c5247584a21a8d69a14775f67d7",
       "value": "Downloading: 100%"
      }
     },
     "757882824548429ebd401b6877d57b6d": {
      "model_module": "@jupyter-widgets/controls",
      "model_module_version": "1.5.0",
      "model_name": "HBoxModel",
      "state": {
       "_dom_classes": [],
       "_model_module": "@jupyter-widgets/controls",
       "_model_module_version": "1.5.0",
       "_model_name": "HBoxModel",
       "_view_count": null,
       "_view_module": "@jupyter-widgets/controls",
       "_view_module_version": "1.5.0",
       "_view_name": "HBoxView",
       "box_style": "",
       "children": [
        "IPY_MODEL_3ea3718f09094e699e63e52aa7437353",
        "IPY_MODEL_c1a54f42e8504a539ed243f4adbf9539",
        "IPY_MODEL_d628ff9a96934222a4788057a83f0aff"
       ],
       "layout": "IPY_MODEL_7657ed85d24b4daabd3ba71227ec58dc"
      }
     },
     "7657ed85d24b4daabd3ba71227ec58dc": {
      "model_module": "@jupyter-widgets/base",
      "model_module_version": "1.2.0",
      "model_name": "LayoutModel",
      "state": {
       "_model_module": "@jupyter-widgets/base",
       "_model_module_version": "1.2.0",
       "_model_name": "LayoutModel",
       "_view_count": null,
       "_view_module": "@jupyter-widgets/base",
       "_view_module_version": "1.2.0",
       "_view_name": "LayoutView",
       "align_content": null,
       "align_items": null,
       "align_self": null,
       "border": null,
       "bottom": null,
       "display": null,
       "flex": null,
       "flex_flow": null,
       "grid_area": null,
       "grid_auto_columns": null,
       "grid_auto_flow": null,
       "grid_auto_rows": null,
       "grid_column": null,
       "grid_gap": null,
       "grid_row": null,
       "grid_template_areas": null,
       "grid_template_columns": null,
       "grid_template_rows": null,
       "height": null,
       "justify_content": null,
       "justify_items": null,
       "left": null,
       "margin": null,
       "max_height": null,
       "max_width": null,
       "min_height": null,
       "min_width": null,
       "object_fit": null,
       "object_position": null,
       "order": null,
       "overflow": null,
       "overflow_x": null,
       "overflow_y": null,
       "padding": null,
       "right": null,
       "top": null,
       "visibility": null,
       "width": null
      }
     },
     "7c080d939706452bb95d08c303299909": {
      "model_module": "@jupyter-widgets/base",
      "model_module_version": "1.2.0",
      "model_name": "LayoutModel",
      "state": {
       "_model_module": "@jupyter-widgets/base",
       "_model_module_version": "1.2.0",
       "_model_name": "LayoutModel",
       "_view_count": null,
       "_view_module": "@jupyter-widgets/base",
       "_view_module_version": "1.2.0",
       "_view_name": "LayoutView",
       "align_content": null,
       "align_items": null,
       "align_self": null,
       "border": null,
       "bottom": null,
       "display": null,
       "flex": null,
       "flex_flow": null,
       "grid_area": null,
       "grid_auto_columns": null,
       "grid_auto_flow": null,
       "grid_auto_rows": null,
       "grid_column": null,
       "grid_gap": null,
       "grid_row": null,
       "grid_template_areas": null,
       "grid_template_columns": null,
       "grid_template_rows": null,
       "height": null,
       "justify_content": null,
       "justify_items": null,
       "left": null,
       "margin": null,
       "max_height": null,
       "max_width": null,
       "min_height": null,
       "min_width": null,
       "object_fit": null,
       "object_position": null,
       "order": null,
       "overflow": null,
       "overflow_x": null,
       "overflow_y": null,
       "padding": null,
       "right": null,
       "top": null,
       "visibility": null,
       "width": null
      }
     },
     "854f036caaf7482b93c74a36f1fdd3f9": {
      "model_module": "@jupyter-widgets/controls",
      "model_module_version": "1.5.0",
      "model_name": "DescriptionStyleModel",
      "state": {
       "_model_module": "@jupyter-widgets/controls",
       "_model_module_version": "1.5.0",
       "_model_name": "DescriptionStyleModel",
       "_view_count": null,
       "_view_module": "@jupyter-widgets/base",
       "_view_module_version": "1.2.0",
       "_view_name": "StyleView",
       "description_width": ""
      }
     },
     "86a2541a5c014e8db2a5070404ad5b51": {
      "model_module": "@jupyter-widgets/controls",
      "model_module_version": "1.5.0",
      "model_name": "HTMLModel",
      "state": {
       "_dom_classes": [],
       "_model_module": "@jupyter-widgets/controls",
       "_model_module_version": "1.5.0",
       "_model_name": "HTMLModel",
       "_view_count": null,
       "_view_module": "@jupyter-widgets/controls",
       "_view_module_version": "1.5.0",
       "_view_name": "HTMLView",
       "description": "",
       "description_tooltip": null,
       "layout": "IPY_MODEL_b6947e22d7164fbbb2e07120a44f6d73",
       "placeholder": "​",
       "style": "IPY_MODEL_ee523bdbbe734d02a0b5df5feb058753",
       "value": " 231M/231M [00:08&lt;00:00, 30.1MB/s]"
      }
     },
     "86b36ae9060e4d7e9813036678f91261": {
      "model_module": "@jupyter-widgets/controls",
      "model_module_version": "1.5.0",
      "model_name": "HBoxModel",
      "state": {
       "_dom_classes": [],
       "_model_module": "@jupyter-widgets/controls",
       "_model_module_version": "1.5.0",
       "_model_name": "HBoxModel",
       "_view_count": null,
       "_view_module": "@jupyter-widgets/controls",
       "_view_module_version": "1.5.0",
       "_view_name": "HBoxView",
       "box_style": "",
       "children": [
        "IPY_MODEL_6c66bc00418d44bfa281b35f11dcbf81",
        "IPY_MODEL_f141d329948d4f3e9f2418c93f0b1847",
        "IPY_MODEL_656f4bcad5d14d7993e3440bac94a0df"
       ],
       "layout": "IPY_MODEL_990e56f9e5704297b5580cc4fe882031"
      }
     },
     "89f9908a074d4fc58f91f30611c03ce4": {
      "model_module": "@jupyter-widgets/base",
      "model_module_version": "1.2.0",
      "model_name": "LayoutModel",
      "state": {
       "_model_module": "@jupyter-widgets/base",
       "_model_module_version": "1.2.0",
       "_model_name": "LayoutModel",
       "_view_count": null,
       "_view_module": "@jupyter-widgets/base",
       "_view_module_version": "1.2.0",
       "_view_name": "LayoutView",
       "align_content": null,
       "align_items": null,
       "align_self": null,
       "border": null,
       "bottom": null,
       "display": null,
       "flex": null,
       "flex_flow": null,
       "grid_area": null,
       "grid_auto_columns": null,
       "grid_auto_flow": null,
       "grid_auto_rows": null,
       "grid_column": null,
       "grid_gap": null,
       "grid_row": null,
       "grid_template_areas": null,
       "grid_template_columns": null,
       "grid_template_rows": null,
       "height": null,
       "justify_content": null,
       "justify_items": null,
       "left": null,
       "margin": null,
       "max_height": null,
       "max_width": null,
       "min_height": null,
       "min_width": null,
       "object_fit": null,
       "object_position": null,
       "order": null,
       "overflow": null,
       "overflow_x": null,
       "overflow_y": null,
       "padding": null,
       "right": null,
       "top": null,
       "visibility": null,
       "width": null
      }
     },
     "8a8ef1096214434188bd932cf9cf3ee7": {
      "model_module": "@jupyter-widgets/controls",
      "model_module_version": "1.5.0",
      "model_name": "HTMLModel",
      "state": {
       "_dom_classes": [],
       "_model_module": "@jupyter-widgets/controls",
       "_model_module_version": "1.5.0",
       "_model_name": "HTMLModel",
       "_view_count": null,
       "_view_module": "@jupyter-widgets/controls",
       "_view_module_version": "1.5.0",
       "_view_name": "HTMLView",
       "description": "",
       "description_tooltip": null,
       "layout": "IPY_MODEL_220e6a356e48486a85e908eeb5a7d895",
       "placeholder": "​",
       "style": "IPY_MODEL_5f88abf68d1d4b9dbcb8ca24138a143b",
       "value": "Downloading: 100%"
      }
     },
     "8ee9c468034b496181885407d881340c": {
      "model_module": "@jupyter-widgets/controls",
      "model_module_version": "1.5.0",
      "model_name": "FloatProgressModel",
      "state": {
       "_dom_classes": [],
       "_model_module": "@jupyter-widgets/controls",
       "_model_module_version": "1.5.0",
       "_model_name": "FloatProgressModel",
       "_view_count": null,
       "_view_module": "@jupyter-widgets/controls",
       "_view_module_version": "1.5.0",
       "_view_name": "ProgressView",
       "bar_style": "success",
       "description": "",
       "description_tooltip": null,
       "layout": "IPY_MODEL_f5a99ab5268d4c868764920a2a7bea2a",
       "max": 1197.0,
       "min": 0.0,
       "orientation": "horizontal",
       "style": "IPY_MODEL_e46f2a74e4b34bebbc6482ad09b3c84a",
       "value": 1197.0
      }
     },
     "952808441bdf4701b18f83e85dfda4c4": {
      "model_module": "@jupyter-widgets/base",
      "model_module_version": "1.2.0",
      "model_name": "LayoutModel",
      "state": {
       "_model_module": "@jupyter-widgets/base",
       "_model_module_version": "1.2.0",
       "_model_name": "LayoutModel",
       "_view_count": null,
       "_view_module": "@jupyter-widgets/base",
       "_view_module_version": "1.2.0",
       "_view_name": "LayoutView",
       "align_content": null,
       "align_items": null,
       "align_self": null,
       "border": null,
       "bottom": null,
       "display": null,
       "flex": null,
       "flex_flow": null,
       "grid_area": null,
       "grid_auto_columns": null,
       "grid_auto_flow": null,
       "grid_auto_rows": null,
       "grid_column": null,
       "grid_gap": null,
       "grid_row": null,
       "grid_template_areas": null,
       "grid_template_columns": null,
       "grid_template_rows": null,
       "height": null,
       "justify_content": null,
       "justify_items": null,
       "left": null,
       "margin": null,
       "max_height": null,
       "max_width": null,
       "min_height": null,
       "min_width": null,
       "object_fit": null,
       "object_position": null,
       "order": null,
       "overflow": null,
       "overflow_x": null,
       "overflow_y": null,
       "padding": null,
       "right": null,
       "top": null,
       "visibility": null,
       "width": null
      }
     },
     "990e56f9e5704297b5580cc4fe882031": {
      "model_module": "@jupyter-widgets/base",
      "model_module_version": "1.2.0",
      "model_name": "LayoutModel",
      "state": {
       "_model_module": "@jupyter-widgets/base",
       "_model_module_version": "1.2.0",
       "_model_name": "LayoutModel",
       "_view_count": null,
       "_view_module": "@jupyter-widgets/base",
       "_view_module_version": "1.2.0",
       "_view_name": "LayoutView",
       "align_content": null,
       "align_items": null,
       "align_self": null,
       "border": null,
       "bottom": null,
       "display": null,
       "flex": null,
       "flex_flow": null,
       "grid_area": null,
       "grid_auto_columns": null,
       "grid_auto_flow": null,
       "grid_auto_rows": null,
       "grid_column": null,
       "grid_gap": null,
       "grid_row": null,
       "grid_template_areas": null,
       "grid_template_columns": null,
       "grid_template_rows": null,
       "height": null,
       "justify_content": null,
       "justify_items": null,
       "left": null,
       "margin": null,
       "max_height": null,
       "max_width": null,
       "min_height": null,
       "min_width": null,
       "object_fit": null,
       "object_position": null,
       "order": null,
       "overflow": null,
       "overflow_x": null,
       "overflow_y": null,
       "padding": null,
       "right": null,
       "top": null,
       "visibility": null,
       "width": null
      }
     },
     "aadb365f03e5473e8ce4f795c7595b2b": {
      "model_module": "@jupyter-widgets/controls",
      "model_module_version": "1.5.0",
      "model_name": "HBoxModel",
      "state": {
       "_dom_classes": [],
       "_model_module": "@jupyter-widgets/controls",
       "_model_module_version": "1.5.0",
       "_model_name": "HBoxModel",
       "_view_count": null,
       "_view_module": "@jupyter-widgets/controls",
       "_view_module_version": "1.5.0",
       "_view_name": "HBoxView",
       "box_style": "",
       "children": [
        "IPY_MODEL_8a8ef1096214434188bd932cf9cf3ee7",
        "IPY_MODEL_8ee9c468034b496181885407d881340c",
        "IPY_MODEL_2a120950648a44dc89f74e421fe7076c"
       ],
       "layout": "IPY_MODEL_1375805aa31a4b09b7a8ed26c267b12e"
      }
     },
     "ab04aaa702824fbe9aa49afc0a090db3": {
      "model_module": "@jupyter-widgets/base",
      "model_module_version": "1.2.0",
      "model_name": "LayoutModel",
      "state": {
       "_model_module": "@jupyter-widgets/base",
       "_model_module_version": "1.2.0",
       "_model_name": "LayoutModel",
       "_view_count": null,
       "_view_module": "@jupyter-widgets/base",
       "_view_module_version": "1.2.0",
       "_view_name": "LayoutView",
       "align_content": null,
       "align_items": null,
       "align_self": null,
       "border": null,
       "bottom": null,
       "display": null,
       "flex": null,
       "flex_flow": null,
       "grid_area": null,
       "grid_auto_columns": null,
       "grid_auto_flow": null,
       "grid_auto_rows": null,
       "grid_column": null,
       "grid_gap": null,
       "grid_row": null,
       "grid_template_areas": null,
       "grid_template_columns": null,
       "grid_template_rows": null,
       "height": null,
       "justify_content": null,
       "justify_items": null,
       "left": null,
       "margin": null,
       "max_height": null,
       "max_width": null,
       "min_height": null,
       "min_width": null,
       "object_fit": null,
       "object_position": null,
       "order": null,
       "overflow": null,
       "overflow_x": null,
       "overflow_y": null,
       "padding": null,
       "right": null,
       "top": null,
       "visibility": null,
       "width": null
      }
     },
     "abe4e02f23444f5d83df7ec58d021ed8": {
      "model_module": "@jupyter-widgets/base",
      "model_module_version": "1.2.0",
      "model_name": "LayoutModel",
      "state": {
       "_model_module": "@jupyter-widgets/base",
       "_model_module_version": "1.2.0",
       "_model_name": "LayoutModel",
       "_view_count": null,
       "_view_module": "@jupyter-widgets/base",
       "_view_module_version": "1.2.0",
       "_view_name": "LayoutView",
       "align_content": null,
       "align_items": null,
       "align_self": null,
       "border": null,
       "bottom": null,
       "display": null,
       "flex": null,
       "flex_flow": null,
       "grid_area": null,
       "grid_auto_columns": null,
       "grid_auto_flow": null,
       "grid_auto_rows": null,
       "grid_column": null,
       "grid_gap": null,
       "grid_row": null,
       "grid_template_areas": null,
       "grid_template_columns": null,
       "grid_template_rows": null,
       "height": null,
       "justify_content": null,
       "justify_items": null,
       "left": null,
       "margin": null,
       "max_height": null,
       "max_width": null,
       "min_height": null,
       "min_width": null,
       "object_fit": null,
       "object_position": null,
       "order": null,
       "overflow": null,
       "overflow_x": null,
       "overflow_y": null,
       "padding": null,
       "right": null,
       "top": null,
       "visibility": null,
       "width": null
      }
     },
     "af634a3d797b4d298f8454c3f0b6ab20": {
      "model_module": "@jupyter-widgets/base",
      "model_module_version": "1.2.0",
      "model_name": "LayoutModel",
      "state": {
       "_model_module": "@jupyter-widgets/base",
       "_model_module_version": "1.2.0",
       "_model_name": "LayoutModel",
       "_view_count": null,
       "_view_module": "@jupyter-widgets/base",
       "_view_module_version": "1.2.0",
       "_view_name": "LayoutView",
       "align_content": null,
       "align_items": null,
       "align_self": null,
       "border": null,
       "bottom": null,
       "display": null,
       "flex": null,
       "flex_flow": null,
       "grid_area": null,
       "grid_auto_columns": null,
       "grid_auto_flow": null,
       "grid_auto_rows": null,
       "grid_column": null,
       "grid_gap": null,
       "grid_row": null,
       "grid_template_areas": null,
       "grid_template_columns": null,
       "grid_template_rows": null,
       "height": null,
       "justify_content": null,
       "justify_items": null,
       "left": null,
       "margin": null,
       "max_height": null,
       "max_width": null,
       "min_height": null,
       "min_width": null,
       "object_fit": null,
       "object_position": null,
       "order": null,
       "overflow": null,
       "overflow_x": null,
       "overflow_y": null,
       "padding": null,
       "right": null,
       "top": null,
       "visibility": null,
       "width": null
      }
     },
     "b6947e22d7164fbbb2e07120a44f6d73": {
      "model_module": "@jupyter-widgets/base",
      "model_module_version": "1.2.0",
      "model_name": "LayoutModel",
      "state": {
       "_model_module": "@jupyter-widgets/base",
       "_model_module_version": "1.2.0",
       "_model_name": "LayoutModel",
       "_view_count": null,
       "_view_module": "@jupyter-widgets/base",
       "_view_module_version": "1.2.0",
       "_view_name": "LayoutView",
       "align_content": null,
       "align_items": null,
       "align_self": null,
       "border": null,
       "bottom": null,
       "display": null,
       "flex": null,
       "flex_flow": null,
       "grid_area": null,
       "grid_auto_columns": null,
       "grid_auto_flow": null,
       "grid_auto_rows": null,
       "grid_column": null,
       "grid_gap": null,
       "grid_row": null,
       "grid_template_areas": null,
       "grid_template_columns": null,
       "grid_template_rows": null,
       "height": null,
       "justify_content": null,
       "justify_items": null,
       "left": null,
       "margin": null,
       "max_height": null,
       "max_width": null,
       "min_height": null,
       "min_width": null,
       "object_fit": null,
       "object_position": null,
       "order": null,
       "overflow": null,
       "overflow_x": null,
       "overflow_y": null,
       "padding": null,
       "right": null,
       "top": null,
       "visibility": null,
       "width": null
      }
     },
     "c1a54f42e8504a539ed243f4adbf9539": {
      "model_module": "@jupyter-widgets/controls",
      "model_module_version": "1.5.0",
      "model_name": "FloatProgressModel",
      "state": {
       "_dom_classes": [],
       "_model_module": "@jupyter-widgets/controls",
       "_model_module_version": "1.5.0",
       "_model_name": "FloatProgressModel",
       "_view_count": null,
       "_view_module": "@jupyter-widgets/controls",
       "_view_module_version": "1.5.0",
       "_view_name": "ProgressView",
       "bar_style": "success",
       "description": "",
       "description_tooltip": null,
       "layout": "IPY_MODEL_5a8bee3b184740039ac82a5e532534a2",
       "max": 791656.0,
       "min": 0.0,
       "orientation": "horizontal",
       "style": "IPY_MODEL_c2a2799390764db689660184d36e7163",
       "value": 791656.0
      }
     },
     "c2a2799390764db689660184d36e7163": {
      "model_module": "@jupyter-widgets/controls",
      "model_module_version": "1.5.0",
      "model_name": "ProgressStyleModel",
      "state": {
       "_model_module": "@jupyter-widgets/controls",
       "_model_module_version": "1.5.0",
       "_model_name": "ProgressStyleModel",
       "_view_count": null,
       "_view_module": "@jupyter-widgets/base",
       "_view_module_version": "1.2.0",
       "_view_name": "StyleView",
       "bar_color": null,
       "description_width": ""
      }
     },
     "c3722f89670e47408e628dad5ace6213": {
      "model_module": "@jupyter-widgets/base",
      "model_module_version": "1.2.0",
      "model_name": "LayoutModel",
      "state": {
       "_model_module": "@jupyter-widgets/base",
       "_model_module_version": "1.2.0",
       "_model_name": "LayoutModel",
       "_view_count": null,
       "_view_module": "@jupyter-widgets/base",
       "_view_module_version": "1.2.0",
       "_view_name": "LayoutView",
       "align_content": null,
       "align_items": null,
       "align_self": null,
       "border": null,
       "bottom": null,
       "display": null,
       "flex": null,
       "flex_flow": null,
       "grid_area": null,
       "grid_auto_columns": null,
       "grid_auto_flow": null,
       "grid_auto_rows": null,
       "grid_column": null,
       "grid_gap": null,
       "grid_row": null,
       "grid_template_areas": null,
       "grid_template_columns": null,
       "grid_template_rows": null,
       "height": null,
       "justify_content": null,
       "justify_items": null,
       "left": null,
       "margin": null,
       "max_height": null,
       "max_width": null,
       "min_height": null,
       "min_width": null,
       "object_fit": null,
       "object_position": null,
       "order": null,
       "overflow": null,
       "overflow_x": null,
       "overflow_y": null,
       "padding": null,
       "right": null,
       "top": null,
       "visibility": null,
       "width": null
      }
     },
     "cc1358a06c0e4550970655529d4d19bb": {
      "model_module": "@jupyter-widgets/base",
      "model_module_version": "1.2.0",
      "model_name": "LayoutModel",
      "state": {
       "_model_module": "@jupyter-widgets/base",
       "_model_module_version": "1.2.0",
       "_model_name": "LayoutModel",
       "_view_count": null,
       "_view_module": "@jupyter-widgets/base",
       "_view_module_version": "1.2.0",
       "_view_name": "LayoutView",
       "align_content": null,
       "align_items": null,
       "align_self": null,
       "border": null,
       "bottom": null,
       "display": null,
       "flex": null,
       "flex_flow": null,
       "grid_area": null,
       "grid_auto_columns": null,
       "grid_auto_flow": null,
       "grid_auto_rows": null,
       "grid_column": null,
       "grid_gap": null,
       "grid_row": null,
       "grid_template_areas": null,
       "grid_template_columns": null,
       "grid_template_rows": null,
       "height": null,
       "justify_content": null,
       "justify_items": null,
       "left": null,
       "margin": null,
       "max_height": null,
       "max_width": null,
       "min_height": null,
       "min_width": null,
       "object_fit": null,
       "object_position": null,
       "order": null,
       "overflow": null,
       "overflow_x": null,
       "overflow_y": null,
       "padding": null,
       "right": null,
       "top": null,
       "visibility": null,
       "width": null
      }
     },
     "d513821845f844879b6b17f688e67943": {
      "model_module": "@jupyter-widgets/controls",
      "model_module_version": "1.5.0",
      "model_name": "HTMLModel",
      "state": {
       "_dom_classes": [],
       "_model_module": "@jupyter-widgets/controls",
       "_model_module_version": "1.5.0",
       "_model_name": "HTMLModel",
       "_view_count": null,
       "_view_module": "@jupyter-widgets/controls",
       "_view_module_version": "1.5.0",
       "_view_name": "HTMLView",
       "description": "",
       "description_tooltip": null,
       "layout": "IPY_MODEL_cc1358a06c0e4550970655529d4d19bb",
       "placeholder": "​",
       "style": "IPY_MODEL_854f036caaf7482b93c74a36f1fdd3f9",
       "value": "Downloading: 100%"
      }
     },
     "d628ff9a96934222a4788057a83f0aff": {
      "model_module": "@jupyter-widgets/controls",
      "model_module_version": "1.5.0",
      "model_name": "HTMLModel",
      "state": {
       "_dom_classes": [],
       "_model_module": "@jupyter-widgets/controls",
       "_model_module_version": "1.5.0",
       "_model_name": "HTMLModel",
       "_view_count": null,
       "_view_module": "@jupyter-widgets/controls",
       "_view_module_version": "1.5.0",
       "_view_name": "HTMLView",
       "description": "",
       "description_tooltip": null,
       "layout": "IPY_MODEL_ab04aaa702824fbe9aa49afc0a090db3",
       "placeholder": "​",
       "style": "IPY_MODEL_e0aeb6b1f58a45a6a92dbcf5d387ea00",
       "value": " 773k/773k [00:00&lt;00:00, 7.93MB/s]"
      }
     },
     "d76a7bd219b042348394e4a02fe2197b": {
      "model_module": "@jupyter-widgets/base",
      "model_module_version": "1.2.0",
      "model_name": "LayoutModel",
      "state": {
       "_model_module": "@jupyter-widgets/base",
       "_model_module_version": "1.2.0",
       "_model_name": "LayoutModel",
       "_view_count": null,
       "_view_module": "@jupyter-widgets/base",
       "_view_module_version": "1.2.0",
       "_view_name": "LayoutView",
       "align_content": null,
       "align_items": null,
       "align_self": null,
       "border": null,
       "bottom": null,
       "display": null,
       "flex": null,
       "flex_flow": null,
       "grid_area": null,
       "grid_auto_columns": null,
       "grid_auto_flow": null,
       "grid_auto_rows": null,
       "grid_column": null,
       "grid_gap": null,
       "grid_row": null,
       "grid_template_areas": null,
       "grid_template_columns": null,
       "grid_template_rows": null,
       "height": null,
       "justify_content": null,
       "justify_items": null,
       "left": null,
       "margin": null,
       "max_height": null,
       "max_width": null,
       "min_height": null,
       "min_width": null,
       "object_fit": null,
       "object_position": null,
       "order": null,
       "overflow": null,
       "overflow_x": null,
       "overflow_y": null,
       "padding": null,
       "right": null,
       "top": null,
       "visibility": null,
       "width": null
      }
     },
     "e0aeb6b1f58a45a6a92dbcf5d387ea00": {
      "model_module": "@jupyter-widgets/controls",
      "model_module_version": "1.5.0",
      "model_name": "DescriptionStyleModel",
      "state": {
       "_model_module": "@jupyter-widgets/controls",
       "_model_module_version": "1.5.0",
       "_model_name": "DescriptionStyleModel",
       "_view_count": null,
       "_view_module": "@jupyter-widgets/base",
       "_view_module_version": "1.2.0",
       "_view_name": "StyleView",
       "description_width": ""
      }
     },
     "e46f2a74e4b34bebbc6482ad09b3c84a": {
      "model_module": "@jupyter-widgets/controls",
      "model_module_version": "1.5.0",
      "model_name": "ProgressStyleModel",
      "state": {
       "_model_module": "@jupyter-widgets/controls",
       "_model_module_version": "1.5.0",
       "_model_name": "ProgressStyleModel",
       "_view_count": null,
       "_view_module": "@jupyter-widgets/base",
       "_view_module_version": "1.2.0",
       "_view_name": "StyleView",
       "bar_color": null,
       "description_width": ""
      }
     },
     "e67cfe3b4c1c4d2293f9a6da6ae394a7": {
      "model_module": "@jupyter-widgets/controls",
      "model_module_version": "1.5.0",
      "model_name": "FloatProgressModel",
      "state": {
       "_dom_classes": [],
       "_model_module": "@jupyter-widgets/controls",
       "_model_module_version": "1.5.0",
       "_model_name": "FloatProgressModel",
       "_view_count": null,
       "_view_module": "@jupyter-widgets/controls",
       "_view_module_version": "1.5.0",
       "_view_name": "ProgressView",
       "bar_style": "success",
       "description": "",
       "description_tooltip": null,
       "layout": "IPY_MODEL_952808441bdf4701b18f83e85dfda4c4",
       "max": 242065649.0,
       "min": 0.0,
       "orientation": "horizontal",
       "style": "IPY_MODEL_61f33311b1874d119021b3cbecb3d90b",
       "value": 242065649.0
      }
     },
     "ee523bdbbe734d02a0b5df5feb058753": {
      "model_module": "@jupyter-widgets/controls",
      "model_module_version": "1.5.0",
      "model_name": "DescriptionStyleModel",
      "state": {
       "_model_module": "@jupyter-widgets/controls",
       "_model_module_version": "1.5.0",
       "_model_name": "DescriptionStyleModel",
       "_view_count": null,
       "_view_module": "@jupyter-widgets/base",
       "_view_module_version": "1.2.0",
       "_view_name": "StyleView",
       "description_width": ""
      }
     },
     "ef36aa60dd4345e2ad8c00334413817b": {
      "model_module": "@jupyter-widgets/controls",
      "model_module_version": "1.5.0",
      "model_name": "ProgressStyleModel",
      "state": {
       "_model_module": "@jupyter-widgets/controls",
       "_model_module_version": "1.5.0",
       "_model_name": "ProgressStyleModel",
       "_view_count": null,
       "_view_module": "@jupyter-widgets/base",
       "_view_module_version": "1.2.0",
       "_view_name": "StyleView",
       "bar_color": null,
       "description_width": ""
      }
     },
     "f141d329948d4f3e9f2418c93f0b1847": {
      "model_module": "@jupyter-widgets/controls",
      "model_module_version": "1.5.0",
      "model_name": "FloatProgressModel",
      "state": {
       "_dom_classes": [],
       "_model_module": "@jupyter-widgets/controls",
       "_model_module_version": "1.5.0",
       "_model_name": "FloatProgressModel",
       "_view_count": null,
       "_view_module": "@jupyter-widgets/controls",
       "_view_module_version": "1.5.0",
       "_view_name": "ProgressView",
       "bar_style": "success",
       "description": "",
       "description_tooltip": null,
       "layout": "IPY_MODEL_abe4e02f23444f5d83df7ec58d021ed8",
       "max": 1389353.0,
       "min": 0.0,
       "orientation": "horizontal",
       "style": "IPY_MODEL_ef36aa60dd4345e2ad8c00334413817b",
       "value": 1389353.0
      }
     },
     "f5a99ab5268d4c868764920a2a7bea2a": {
      "model_module": "@jupyter-widgets/base",
      "model_module_version": "1.2.0",
      "model_name": "LayoutModel",
      "state": {
       "_model_module": "@jupyter-widgets/base",
       "_model_module_version": "1.2.0",
       "_model_name": "LayoutModel",
       "_view_count": null,
       "_view_module": "@jupyter-widgets/base",
       "_view_module_version": "1.2.0",
       "_view_name": "LayoutView",
       "align_content": null,
       "align_items": null,
       "align_self": null,
       "border": null,
       "bottom": null,
       "display": null,
       "flex": null,
       "flex_flow": null,
       "grid_area": null,
       "grid_auto_columns": null,
       "grid_auto_flow": null,
       "grid_auto_rows": null,
       "grid_column": null,
       "grid_gap": null,
       "grid_row": null,
       "grid_template_areas": null,
       "grid_template_columns": null,
       "grid_template_rows": null,
       "height": null,
       "justify_content": null,
       "justify_items": null,
       "left": null,
       "margin": null,
       "max_height": null,
       "max_width": null,
       "min_height": null,
       "min_width": null,
       "object_fit": null,
       "object_position": null,
       "order": null,
       "overflow": null,
       "overflow_x": null,
       "overflow_y": null,
       "padding": null,
       "right": null,
       "top": null,
       "visibility": null,
       "width": null
      }
     }
    },
    "version_major": 2,
    "version_minor": 0
   }
  }
 },
 "nbformat": 4,
 "nbformat_minor": 5
}
