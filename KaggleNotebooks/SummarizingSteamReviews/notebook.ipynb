{
 "cells": [
  {
   "cell_type": "markdown",
   "id": "7560a6dd",
   "metadata": {
    "papermill": {
     "duration": 0.01367,
     "end_time": "2021-12-17T04:06:48.417673",
     "exception": false,
     "start_time": "2021-12-17T04:06:48.404003",
     "status": "completed"
    },
    "tags": []
   },
   "source": [
    "# Summarizing Steam Reviews"
   ]
  },
  {
   "cell_type": "markdown",
   "id": "7bb5aebd",
   "metadata": {
    "papermill": {
     "duration": 0.012023,
     "end_time": "2021-12-17T04:06:48.442447",
     "exception": false,
     "start_time": "2021-12-17T04:06:48.430424",
     "status": "completed"
    },
    "tags": []
   },
   "source": [
    "## Pulling in the Data"
   ]
  },
  {
   "cell_type": "code",
   "execution_count": 1,
   "id": "1bd21ac0",
   "metadata": {
    "execution": {
     "iopub.execute_input": "2021-12-17T04:06:48.478592Z",
     "iopub.status.busy": "2021-12-17T04:06:48.477884Z",
     "iopub.status.idle": "2021-12-17T04:07:43.226993Z",
     "shell.execute_reply": "2021-12-17T04:07:43.226256Z",
     "shell.execute_reply.started": "2021-12-17T04:00:46.526163Z"
    },
    "papermill": {
     "duration": 54.772336,
     "end_time": "2021-12-17T04:07:43.227176",
     "exception": false,
     "start_time": "2021-12-17T04:06:48.454840",
     "status": "completed"
    },
    "tags": []
   },
   "outputs": [],
   "source": [
    "import pandas as pd\n",
    "\n",
    "raw_data = pd.read_csv('/kaggle/input/steam-reviews/dataset.csv')"
   ]
  },
  {
   "cell_type": "markdown",
   "id": "c550b535",
   "metadata": {
    "papermill": {
     "duration": 0.012197,
     "end_time": "2021-12-17T04:07:43.251874",
     "exception": false,
     "start_time": "2021-12-17T04:07:43.239677",
     "status": "completed"
    },
    "tags": []
   },
   "source": [
    "Since I'm just going to be summarizing the review text the extra columns are unnecessary."
   ]
  },
  {
   "cell_type": "code",
   "execution_count": 2,
   "id": "b1e04455",
   "metadata": {
    "execution": {
     "iopub.execute_input": "2021-12-17T04:07:43.369913Z",
     "iopub.status.busy": "2021-12-17T04:07:43.287419Z",
     "iopub.status.idle": "2021-12-17T04:07:43.659201Z",
     "shell.execute_reply": "2021-12-17T04:07:43.658594Z",
     "shell.execute_reply.started": "2021-12-17T04:01:30.081319Z"
    },
    "papermill": {
     "duration": 0.394901,
     "end_time": "2021-12-17T04:07:43.659406",
     "exception": false,
     "start_time": "2021-12-17T04:07:43.264505",
     "status": "completed"
    },
    "tags": []
   },
   "outputs": [],
   "source": [
    "raw_data.drop(columns=['review_votes', 'review_score', 'app_id'], inplace=True, errors='ignore')"
   ]
  },
  {
   "cell_type": "code",
   "execution_count": 3,
   "id": "7bb87fbb",
   "metadata": {
    "execution": {
     "iopub.execute_input": "2021-12-17T04:07:43.693253Z",
     "iopub.status.busy": "2021-12-17T04:07:43.692526Z",
     "iopub.status.idle": "2021-12-17T04:07:43.707784Z",
     "shell.execute_reply": "2021-12-17T04:07:43.708299Z",
     "shell.execute_reply.started": "2021-12-17T04:01:30.464062Z"
    },
    "papermill": {
     "duration": 0.036654,
     "end_time": "2021-12-17T04:07:43.708490",
     "exception": false,
     "start_time": "2021-12-17T04:07:43.671836",
     "status": "completed"
    },
    "tags": []
   },
   "outputs": [
    {
     "data": {
      "text/html": [
       "<div>\n",
       "<style scoped>\n",
       "    .dataframe tbody tr th:only-of-type {\n",
       "        vertical-align: middle;\n",
       "    }\n",
       "\n",
       "    .dataframe tbody tr th {\n",
       "        vertical-align: top;\n",
       "    }\n",
       "\n",
       "    .dataframe thead th {\n",
       "        text-align: right;\n",
       "    }\n",
       "</style>\n",
       "<table border=\"1\" class=\"dataframe\">\n",
       "  <thead>\n",
       "    <tr style=\"text-align: right;\">\n",
       "      <th></th>\n",
       "      <th>app_name</th>\n",
       "      <th>review_text</th>\n",
       "    </tr>\n",
       "  </thead>\n",
       "  <tbody>\n",
       "    <tr>\n",
       "      <th>0</th>\n",
       "      <td>Counter-Strike</td>\n",
       "      <td>Ruined my life.</td>\n",
       "    </tr>\n",
       "    <tr>\n",
       "      <th>1</th>\n",
       "      <td>Counter-Strike</td>\n",
       "      <td>This will be more of a ''my experience with th...</td>\n",
       "    </tr>\n",
       "    <tr>\n",
       "      <th>2</th>\n",
       "      <td>Counter-Strike</td>\n",
       "      <td>This game saved my virginity.</td>\n",
       "    </tr>\n",
       "    <tr>\n",
       "      <th>3</th>\n",
       "      <td>Counter-Strike</td>\n",
       "      <td>• Do you like original games? • Do you like ga...</td>\n",
       "    </tr>\n",
       "    <tr>\n",
       "      <th>4</th>\n",
       "      <td>Counter-Strike</td>\n",
       "      <td>Easy to learn, hard to master.</td>\n",
       "    </tr>\n",
       "  </tbody>\n",
       "</table>\n",
       "</div>"
      ],
      "text/plain": [
       "         app_name                                        review_text\n",
       "0  Counter-Strike                                    Ruined my life.\n",
       "1  Counter-Strike  This will be more of a ''my experience with th...\n",
       "2  Counter-Strike                      This game saved my virginity.\n",
       "3  Counter-Strike  • Do you like original games? • Do you like ga...\n",
       "4  Counter-Strike           Easy to learn, hard to master.          "
      ]
     },
     "execution_count": 3,
     "metadata": {},
     "output_type": "execute_result"
    }
   ],
   "source": [
    "raw_data.head(5)"
   ]
  },
  {
   "cell_type": "code",
   "execution_count": 4,
   "id": "1e1c90be",
   "metadata": {
    "execution": {
     "iopub.execute_input": "2021-12-17T04:07:45.462531Z",
     "iopub.status.busy": "2021-12-17T04:07:45.460479Z",
     "iopub.status.idle": "2021-12-17T04:07:45.967047Z",
     "shell.execute_reply": "2021-12-17T04:07:45.965957Z",
     "shell.execute_reply.started": "2021-12-17T04:01:30.522663Z"
    },
    "papermill": {
     "duration": 2.245064,
     "end_time": "2021-12-17T04:07:45.967219",
     "exception": false,
     "start_time": "2021-12-17T04:07:43.722155",
     "status": "completed"
    },
    "tags": []
   },
   "outputs": [],
   "source": [
    "raw_data.dropna(axis='index', inplace=True)"
   ]
  },
  {
   "cell_type": "code",
   "execution_count": 5,
   "id": "9984cbda",
   "metadata": {
    "execution": {
     "iopub.execute_input": "2021-12-17T04:07:47.014959Z",
     "iopub.status.busy": "2021-12-17T04:07:47.014222Z",
     "iopub.status.idle": "2021-12-17T04:07:57.029073Z",
     "shell.execute_reply": "2021-12-17T04:07:57.028477Z",
     "shell.execute_reply.started": "2021-12-17T04:01:32.850391Z"
    },
    "papermill": {
     "duration": 11.048797,
     "end_time": "2021-12-17T04:07:57.029218",
     "exception": false,
     "start_time": "2021-12-17T04:07:45.980421",
     "status": "completed"
    },
    "tags": []
   },
   "outputs": [],
   "source": [
    "reorder_raw_data = raw_data.review_text.str.len().sort_values(ascending=False).index\n",
    "raw_data = raw_data.reindex(reorder_raw_data)"
   ]
  },
  {
   "cell_type": "code",
   "execution_count": 6,
   "id": "27b4dc41",
   "metadata": {
    "execution": {
     "iopub.execute_input": "2021-12-17T04:07:57.067701Z",
     "iopub.status.busy": "2021-12-17T04:07:57.066760Z",
     "iopub.status.idle": "2021-12-17T04:07:57.070866Z",
     "shell.execute_reply": "2021-12-17T04:07:57.070183Z",
     "shell.execute_reply.started": "2021-12-17T04:01:40.817387Z"
    },
    "papermill": {
     "duration": 0.028811,
     "end_time": "2021-12-17T04:07:57.071008",
     "exception": false,
     "start_time": "2021-12-17T04:07:57.042197",
     "status": "completed"
    },
    "tags": []
   },
   "outputs": [
    {
     "data": {
      "text/html": [
       "<div>\n",
       "<style scoped>\n",
       "    .dataframe tbody tr th:only-of-type {\n",
       "        vertical-align: middle;\n",
       "    }\n",
       "\n",
       "    .dataframe tbody tr th {\n",
       "        vertical-align: top;\n",
       "    }\n",
       "\n",
       "    .dataframe thead th {\n",
       "        text-align: right;\n",
       "    }\n",
       "</style>\n",
       "<table border=\"1\" class=\"dataframe\">\n",
       "  <thead>\n",
       "    <tr style=\"text-align: right;\">\n",
       "      <th></th>\n",
       "      <th>app_name</th>\n",
       "      <th>review_text</th>\n",
       "    </tr>\n",
       "  </thead>\n",
       "  <tbody>\n",
       "    <tr>\n",
       "      <th>1269648</th>\n",
       "      <td>Quake III Arena</td>\n",
       "      <td>Excellent.. (Quake Champions Hype!!!)  &amp;nbsp;&amp;...</td>\n",
       "    </tr>\n",
       "    <tr>\n",
       "      <th>5071378</th>\n",
       "      <td>Moonbase Alpha</td>\n",
       "      <td>MOONBASE ODDITY   REMINDER: EACH LINE IS TOO L...</td>\n",
       "    </tr>\n",
       "    <tr>\n",
       "      <th>5837082</th>\n",
       "      <td>Borderlands 2</td>\n",
       "      <td>&amp;lt;10:37:20&amp;gt; Trying to connect to server o...</td>\n",
       "    </tr>\n",
       "    <tr>\n",
       "      <th>6035152</th>\n",
       "      <td>Dota 2</td>\n",
       "      <td>&amp;gt; Good game, well played &amp;gt; Good game, we...</td>\n",
       "    </tr>\n",
       "    <tr>\n",
       "      <th>88380</th>\n",
       "      <td>Terraria</td>\n",
       "      <td>https://www.youtube.com/watch?v=cH6qR2gliug  ...</td>\n",
       "    </tr>\n",
       "  </tbody>\n",
       "</table>\n",
       "</div>"
      ],
      "text/plain": [
       "                app_name                                        review_text\n",
       "1269648  Quake III Arena  Excellent.. (Quake Champions Hype!!!)  &nbsp;&...\n",
       "5071378   Moonbase Alpha  MOONBASE ODDITY   REMINDER: EACH LINE IS TOO L...\n",
       "5837082    Borderlands 2  &lt;10:37:20&gt; Trying to connect to server o...\n",
       "6035152           Dota 2  &gt; Good game, well played &gt; Good game, we...\n",
       "88380           Terraria   https://www.youtube.com/watch?v=cH6qR2gliug  ..."
      ]
     },
     "execution_count": 6,
     "metadata": {},
     "output_type": "execute_result"
    }
   ],
   "source": [
    "raw_data.head(5)"
   ]
  },
  {
   "cell_type": "code",
   "execution_count": 7,
   "id": "5efe88e5",
   "metadata": {
    "execution": {
     "iopub.execute_input": "2021-12-17T04:07:57.101937Z",
     "iopub.status.busy": "2021-12-17T04:07:57.101218Z",
     "iopub.status.idle": "2021-12-17T04:07:59.125676Z",
     "shell.execute_reply": "2021-12-17T04:07:59.126295Z",
     "shell.execute_reply.started": "2021-12-17T04:01:40.917057Z"
    },
    "papermill": {
     "duration": 2.042117,
     "end_time": "2021-12-17T04:07:59.126516",
     "exception": false,
     "start_time": "2021-12-17T04:07:57.084399",
     "status": "completed"
    },
    "tags": []
   },
   "outputs": [],
   "source": [
    "from datasets import Dataset\n",
    "# Filter only the longest 1,000 reviews to summarize\n",
    "data_df = Dataset.from_pandas(raw_data[:1000])"
   ]
  },
  {
   "cell_type": "code",
   "execution_count": 8,
   "id": "d02defa0",
   "metadata": {
    "execution": {
     "iopub.execute_input": "2021-12-17T04:07:59.342719Z",
     "iopub.status.busy": "2021-12-17T04:07:59.341636Z",
     "iopub.status.idle": "2021-12-17T04:07:59.346362Z",
     "shell.execute_reply": "2021-12-17T04:07:59.345731Z",
     "shell.execute_reply.started": "2021-12-17T04:01:43.269938Z"
    },
    "papermill": {
     "duration": 0.206037,
     "end_time": "2021-12-17T04:07:59.346512",
     "exception": false,
     "start_time": "2021-12-17T04:07:59.140475",
     "status": "completed"
    },
    "tags": []
   },
   "outputs": [
    {
     "data": {
      "text/plain": [
       "51"
      ]
     },
     "execution_count": 8,
     "metadata": {},
     "output_type": "execute_result"
    }
   ],
   "source": [
    "import gc\n",
    "del raw_data\n",
    "gc.collect()"
   ]
  },
  {
   "cell_type": "markdown",
   "id": "7fff2161",
   "metadata": {
    "papermill": {
     "duration": 0.013304,
     "end_time": "2021-12-17T04:07:59.373328",
     "exception": false,
     "start_time": "2021-12-17T04:07:59.360024",
     "status": "completed"
    },
    "tags": []
   },
   "source": [
    "## Model Time"
   ]
  },
  {
   "cell_type": "code",
   "execution_count": 9,
   "id": "bd6178c0",
   "metadata": {
    "execution": {
     "iopub.execute_input": "2021-12-17T04:07:59.405065Z",
     "iopub.status.busy": "2021-12-17T04:07:59.404062Z",
     "iopub.status.idle": "2021-12-17T04:07:59.407754Z",
     "shell.execute_reply": "2021-12-17T04:07:59.408311Z",
     "shell.execute_reply.started": "2021-12-17T04:04:04.435742Z"
    },
    "papermill": {
     "duration": 0.021377,
     "end_time": "2021-12-17T04:07:59.408509",
     "exception": false,
     "start_time": "2021-12-17T04:07:59.387132",
     "status": "completed"
    },
    "tags": []
   },
   "outputs": [],
   "source": [
    "# from transformers import PegasusForConditionalGeneration, PegasusTokenizerFast\n",
    "\n",
    "# checkpoint = \"google/pegasus-xsum\"\n",
    "# model = PegasusForConditionalGeneration.from_pretrained(checkpoint)\n",
    "# tokenizer = PegasusTokenizerFast.from_pretrained(checkpoint)"
   ]
  },
  {
   "cell_type": "code",
   "execution_count": 10,
   "id": "09c997e3",
   "metadata": {
    "execution": {
     "iopub.execute_input": "2021-12-17T04:07:59.441039Z",
     "iopub.status.busy": "2021-12-17T04:07:59.440218Z",
     "iopub.status.idle": "2021-12-17T04:07:59.443624Z",
     "shell.execute_reply": "2021-12-17T04:07:59.442973Z"
    },
    "papermill": {
     "duration": 0.021784,
     "end_time": "2021-12-17T04:07:59.443764",
     "exception": false,
     "start_time": "2021-12-17T04:07:59.421980",
     "status": "completed"
    },
    "tags": []
   },
   "outputs": [],
   "source": [
    "# batch = tokenizer(data_df['review_text'], truncation=True, padding='longest', return_tensors=\"pt\")\n",
    "# translated = model.generate(**batch)\n",
    "# tgt_text = tokenizer.batch_decode(translated, skip_special_tokens=True)\n",
    "# data_df['summarized'] = tgt_text"
   ]
  },
  {
   "cell_type": "code",
   "execution_count": 11,
   "id": "81f15b80",
   "metadata": {
    "execution": {
     "iopub.execute_input": "2021-12-17T04:07:59.476858Z",
     "iopub.status.busy": "2021-12-17T04:07:59.476000Z",
     "iopub.status.idle": "2021-12-17T04:07:59.478605Z",
     "shell.execute_reply": "2021-12-17T04:07:59.479059Z",
     "shell.execute_reply.started": "2021-12-17T04:02:26.145584Z"
    },
    "papermill": {
     "duration": 0.021632,
     "end_time": "2021-12-17T04:07:59.479243",
     "exception": false,
     "start_time": "2021-12-17T04:07:59.457611",
     "status": "completed"
    },
    "tags": []
   },
   "outputs": [],
   "source": [
    "# data_df.head(5)"
   ]
  },
  {
   "cell_type": "code",
   "execution_count": null,
   "id": "33666907",
   "metadata": {
    "papermill": {
     "duration": 0.013625,
     "end_time": "2021-12-17T04:07:59.506517",
     "exception": false,
     "start_time": "2021-12-17T04:07:59.492892",
     "status": "completed"
    },
    "tags": []
   },
   "outputs": [],
   "source": []
  }
 ],
 "metadata": {
  "kernelspec": {
   "display_name": "Python 3",
   "language": "python",
   "name": "python3"
  },
  "language_info": {
   "codemirror_mode": {
    "name": "ipython",
    "version": 3
   },
   "file_extension": ".py",
   "mimetype": "text/x-python",
   "name": "python",
   "nbconvert_exporter": "python",
   "pygments_lexer": "ipython3",
   "version": "3.7.12"
  },
  "papermill": {
   "default_parameters": {},
   "duration": 84.633711,
   "end_time": "2021-12-17T04:08:02.030716",
   "environment_variables": {},
   "exception": null,
   "input_path": "__notebook__.ipynb",
   "output_path": "__notebook__.ipynb",
   "parameters": {},
   "start_time": "2021-12-17T04:06:37.397005",
   "version": "2.3.3"
  }
 },
 "nbformat": 4,
 "nbformat_minor": 5
}
